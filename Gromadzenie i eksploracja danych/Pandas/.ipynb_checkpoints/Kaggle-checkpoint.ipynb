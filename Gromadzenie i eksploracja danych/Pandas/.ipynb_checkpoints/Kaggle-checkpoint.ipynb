{
 "cells": [
  {
   "cell_type": "markdown",
   "id": "10959ed4",
   "metadata": {},
   "source": [
    "# Pobieranie i wczytywanie zbiorów danych z Kaggle.com"
   ]
  },
  {
   "cell_type": "markdown",
   "id": "8a9f4638",
   "metadata": {},
   "source": [
    "Aby korzystać z poniżej opisanego sposobu pobierania danych z Kaggle.com, należy: \n",
    "- zainstalować pakiet `kaggle`, np. wpisując w systemie Windows w wierszu poleceń \"py.exe -m pip install kaggle\",\n",
    "- zarejestrować się i zalogować na stronie Kaggle.com,\n",
    "- pobrać plik autoryzacyjny z witryny Kaggle.com: na stronie wchodzimy w ustawienia konta (account), a następnie w sekcji API wybieramy \"Create New API Token\" i pobrany plik autoryzacyjny, który należy umieścić w odpowiednim miejscu (Windows: C:\\Users\\\\[nazwa użytkownika]\\\\.kaggle, Linux: ~/.kaggle/)\n",
    "\n",
    "Więcej szczegółów na temat korzystania z API Kaggle można znaleźć w dokumencie https://www.kaggle.com/docs/api"
   ]
  },
  {
   "cell_type": "markdown",
   "id": "044d1466",
   "metadata": {},
   "source": [
    "Poniżej pobranie i wczytanie ramki danych ze zbioru https://www.kaggle.com/datasets/jalota/books-dataset."
   ]
  },
  {
   "cell_type": "code",
   "execution_count": 1,
   "id": "a11be501",
   "metadata": {},
   "outputs": [],
   "source": [
    "import kaggle"
   ]
  },
  {
   "cell_type": "markdown",
   "id": "aaa83010",
   "metadata": {},
   "source": [
    "Aby pobrać zbiór danych z kaggle, konieczna jest znajomość nazwy użytkownia, który zamieścił zbiór danych, oraz nazwy samego zbioru danych. W naszym przykładzie są to odpowiednio 'jalota' oraz 'Books-dataset'. Poniżej pobranie skompresowanego zbioru danych do podkatalogu 'datasets'."
   ]
  },
  {
   "cell_type": "code",
   "execution_count": 2,
   "id": "97f1d832",
   "metadata": {},
   "outputs": [
    {
     "name": "stdout",
     "output_type": "stream",
     "text": [
      "Downloading Books-dataset.zip to datasets\n"
     ]
    },
    {
     "name": "stderr",
     "output_type": "stream",
     "text": [
      "100%|███████████████████████████████████████████████████████████████████████████████| 537k/537k [00:00<00:00, 14.7MB/s]"
     ]
    },
    {
     "name": "stdout",
     "output_type": "stream",
     "text": [
      "\n"
     ]
    },
    {
     "name": "stderr",
     "output_type": "stream",
     "text": [
      "\n"
     ]
    }
   ],
   "source": [
    "kaggle.api.dataset_download_cli('jalota/Books-dataset', path='datasets')"
   ]
  },
  {
   "cell_type": "markdown",
   "id": "1b7e73bb",
   "metadata": {},
   "source": [
    "Rozpakowanie danych"
   ]
  },
  {
   "cell_type": "code",
   "execution_count": 3,
   "id": "8d914ccd",
   "metadata": {},
   "outputs": [],
   "source": [
    "from zipfile import ZipFile\n",
    "with ZipFile('datasets/books-dataset.zip', 'r') as zipObj:\n",
    "   zipObj.extractall('datasets')"
   ]
  },
  {
   "cell_type": "markdown",
   "id": "812d635d",
   "metadata": {},
   "source": [
    "Można także przy pobieraniu zaznaczyć, że pobrane dane mają być rozpakowane (parametr unzip=True). Poniżej polecenie pobierające rozpakowane dane do podkatalogu `datasets'"
   ]
  },
  {
   "cell_type": "code",
   "execution_count": 4,
   "id": "e82fa589",
   "metadata": {},
   "outputs": [
    {
     "name": "stdout",
     "output_type": "stream",
     "text": [
      "Downloading Books-dataset.zip to datasets\n"
     ]
    },
    {
     "name": "stderr",
     "output_type": "stream",
     "text": [
      "100%|███████████████████████████████████████████████████████████████████████████████| 537k/537k [00:00<00:00, 20.9MB/s]"
     ]
    },
    {
     "name": "stdout",
     "output_type": "stream",
     "text": [
      "\n"
     ]
    },
    {
     "name": "stderr",
     "output_type": "stream",
     "text": [
      "\n"
     ]
    }
   ],
   "source": [
    "kaggle.api.dataset_download_cli('jalota/Books-dataset', path='datasets', unzip=True)"
   ]
  },
  {
   "cell_type": "markdown",
   "id": "17097238",
   "metadata": {},
   "source": [
    "Wczytanie danych do ramki danych"
   ]
  },
  {
   "cell_type": "code",
   "execution_count": 5,
   "id": "4fd94e8b",
   "metadata": {},
   "outputs": [],
   "source": [
    "import pandas as pd\n",
    "df = pd.read_csv('datasets/Book_Dataset_1.csv')"
   ]
  },
  {
   "cell_type": "markdown",
   "id": "0bd3a143",
   "metadata": {},
   "source": [
    "Wyświetlenie ramki danych"
   ]
  },
  {
   "cell_type": "code",
   "execution_count": 6,
   "id": "de8806ca",
   "metadata": {},
   "outputs": [
    {
     "data": {
      "text/html": [
       "<div>\n",
       "<style scoped>\n",
       "    .dataframe tbody tr th:only-of-type {\n",
       "        vertical-align: middle;\n",
       "    }\n",
       "\n",
       "    .dataframe tbody tr th {\n",
       "        vertical-align: top;\n",
       "    }\n",
       "\n",
       "    .dataframe thead th {\n",
       "        text-align: right;\n",
       "    }\n",
       "</style>\n",
       "<table border=\"1\" class=\"dataframe\">\n",
       "  <thead>\n",
       "    <tr style=\"text-align: right;\">\n",
       "      <th></th>\n",
       "      <th>Unnamed: 0</th>\n",
       "      <th>Title</th>\n",
       "      <th>Category</th>\n",
       "      <th>Price</th>\n",
       "      <th>Price_After_Tax</th>\n",
       "      <th>Tax_amount</th>\n",
       "      <th>Avilability</th>\n",
       "      <th>Number_of_reviews</th>\n",
       "      <th>Book_Description</th>\n",
       "      <th>Image_Link</th>\n",
       "      <th>Stars</th>\n",
       "    </tr>\n",
       "  </thead>\n",
       "  <tbody>\n",
       "    <tr>\n",
       "      <th>0</th>\n",
       "      <td>0</td>\n",
       "      <td>A Light in the Attic</td>\n",
       "      <td>Poetry</td>\n",
       "      <td>51.77</td>\n",
       "      <td>51.77</td>\n",
       "      <td>0.0</td>\n",
       "      <td>22</td>\n",
       "      <td>0</td>\n",
       "      <td>It's hard to imagine a world without A Light i...</td>\n",
       "      <td>http://books.toscrape.com/media/cache/fe/72/fe...</td>\n",
       "      <td>3</td>\n",
       "    </tr>\n",
       "    <tr>\n",
       "      <th>1</th>\n",
       "      <td>1</td>\n",
       "      <td>Tipping the Velvet</td>\n",
       "      <td>Historical Fiction</td>\n",
       "      <td>53.74</td>\n",
       "      <td>53.74</td>\n",
       "      <td>0.0</td>\n",
       "      <td>20</td>\n",
       "      <td>0</td>\n",
       "      <td>\"Erotic and absorbing...Written with starling ...</td>\n",
       "      <td>http://books.toscrape.com/media/cache/08/e9/08...</td>\n",
       "      <td>1</td>\n",
       "    </tr>\n",
       "    <tr>\n",
       "      <th>2</th>\n",
       "      <td>2</td>\n",
       "      <td>Soumission</td>\n",
       "      <td>Fiction</td>\n",
       "      <td>50.10</td>\n",
       "      <td>50.10</td>\n",
       "      <td>0.0</td>\n",
       "      <td>20</td>\n",
       "      <td>0</td>\n",
       "      <td>Dans une France assez proche de la nÃ´tre, un ...</td>\n",
       "      <td>http://books.toscrape.com/media/cache/ee/cf/ee...</td>\n",
       "      <td>1</td>\n",
       "    </tr>\n",
       "    <tr>\n",
       "      <th>3</th>\n",
       "      <td>3</td>\n",
       "      <td>Sharp Objects</td>\n",
       "      <td>Mystery</td>\n",
       "      <td>47.82</td>\n",
       "      <td>47.82</td>\n",
       "      <td>0.0</td>\n",
       "      <td>20</td>\n",
       "      <td>0</td>\n",
       "      <td>WICKED above her hipbone, GIRL across her hear...</td>\n",
       "      <td>http://books.toscrape.com/media/cache/c0/59/c0...</td>\n",
       "      <td>4</td>\n",
       "    </tr>\n",
       "    <tr>\n",
       "      <th>4</th>\n",
       "      <td>4</td>\n",
       "      <td>Sapiens: A Brief History of Humankind</td>\n",
       "      <td>History</td>\n",
       "      <td>54.23</td>\n",
       "      <td>54.23</td>\n",
       "      <td>0.0</td>\n",
       "      <td>20</td>\n",
       "      <td>0</td>\n",
       "      <td>From a renowned historian comes a groundbreaki...</td>\n",
       "      <td>http://books.toscrape.com/media/cache/ce/5f/ce...</td>\n",
       "      <td>5</td>\n",
       "    </tr>\n",
       "    <tr>\n",
       "      <th>...</th>\n",
       "      <td>...</td>\n",
       "      <td>...</td>\n",
       "      <td>...</td>\n",
       "      <td>...</td>\n",
       "      <td>...</td>\n",
       "      <td>...</td>\n",
       "      <td>...</td>\n",
       "      <td>...</td>\n",
       "      <td>...</td>\n",
       "      <td>...</td>\n",
       "      <td>...</td>\n",
       "    </tr>\n",
       "    <tr>\n",
       "      <th>995</th>\n",
       "      <td>995</td>\n",
       "      <td>Alice in Wonderland (Alice's Adventures in Won...</td>\n",
       "      <td>Classics</td>\n",
       "      <td>55.53</td>\n",
       "      <td>55.53</td>\n",
       "      <td>0.0</td>\n",
       "      <td>1</td>\n",
       "      <td>0</td>\n",
       "      <td>\\n\\n\\n\\n\\n\\n</td>\n",
       "      <td>http://books.toscrape.com/media/cache/99/df/99...</td>\n",
       "      <td>1</td>\n",
       "    </tr>\n",
       "    <tr>\n",
       "      <th>996</th>\n",
       "      <td>996</td>\n",
       "      <td>Ajin: Demi-Human, Volume 1 (Ajin: Demi-Human #1)</td>\n",
       "      <td>Sequential Art</td>\n",
       "      <td>57.06</td>\n",
       "      <td>57.06</td>\n",
       "      <td>0.0</td>\n",
       "      <td>1</td>\n",
       "      <td>0</td>\n",
       "      <td>High school student Kei Nagai is struck dead i...</td>\n",
       "      <td>http://books.toscrape.com/media/cache/30/98/30...</td>\n",
       "      <td>4</td>\n",
       "    </tr>\n",
       "    <tr>\n",
       "      <th>997</th>\n",
       "      <td>997</td>\n",
       "      <td>A Spy's Devotion (The Regency Spies of London #1)</td>\n",
       "      <td>Historical Fiction</td>\n",
       "      <td>16.97</td>\n",
       "      <td>16.97</td>\n",
       "      <td>0.0</td>\n",
       "      <td>1</td>\n",
       "      <td>0</td>\n",
       "      <td>In Englandâs Regency era, manners and elegan...</td>\n",
       "      <td>http://books.toscrape.com/media/cache/f9/6b/f9...</td>\n",
       "      <td>5</td>\n",
       "    </tr>\n",
       "    <tr>\n",
       "      <th>998</th>\n",
       "      <td>998</td>\n",
       "      <td>1st to Die (Women's Murder Club #1)</td>\n",
       "      <td>Mystery</td>\n",
       "      <td>53.98</td>\n",
       "      <td>53.98</td>\n",
       "      <td>0.0</td>\n",
       "      <td>1</td>\n",
       "      <td>0</td>\n",
       "      <td>James Patterson, bestselling author of the Ale...</td>\n",
       "      <td>http://books.toscrape.com/media/cache/f6/8e/f6...</td>\n",
       "      <td>1</td>\n",
       "    </tr>\n",
       "    <tr>\n",
       "      <th>999</th>\n",
       "      <td>999</td>\n",
       "      <td>1,000 Places to See Before You Die</td>\n",
       "      <td>Travel</td>\n",
       "      <td>26.08</td>\n",
       "      <td>26.08</td>\n",
       "      <td>0.0</td>\n",
       "      <td>1</td>\n",
       "      <td>0</td>\n",
       "      <td>Around the World, continent by continent, here...</td>\n",
       "      <td>http://books.toscrape.com/media/cache/9e/10/9e...</td>\n",
       "      <td>5</td>\n",
       "    </tr>\n",
       "  </tbody>\n",
       "</table>\n",
       "<p>1000 rows × 11 columns</p>\n",
       "</div>"
      ],
      "text/plain": [
       "     Unnamed: 0                                              Title  \\\n",
       "0             0                               A Light in the Attic   \n",
       "1             1                                 Tipping the Velvet   \n",
       "2             2                                         Soumission   \n",
       "3             3                                      Sharp Objects   \n",
       "4             4              Sapiens: A Brief History of Humankind   \n",
       "..          ...                                                ...   \n",
       "995         995  Alice in Wonderland (Alice's Adventures in Won...   \n",
       "996         996   Ajin: Demi-Human, Volume 1 (Ajin: Demi-Human #1)   \n",
       "997         997  A Spy's Devotion (The Regency Spies of London #1)   \n",
       "998         998                1st to Die (Women's Murder Club #1)   \n",
       "999         999                 1,000 Places to See Before You Die   \n",
       "\n",
       "               Category  Price  Price_After_Tax  Tax_amount  Avilability  \\\n",
       "0                Poetry  51.77            51.77         0.0           22   \n",
       "1    Historical Fiction  53.74            53.74         0.0           20   \n",
       "2               Fiction  50.10            50.10         0.0           20   \n",
       "3               Mystery  47.82            47.82         0.0           20   \n",
       "4               History  54.23            54.23         0.0           20   \n",
       "..                  ...    ...              ...         ...          ...   \n",
       "995            Classics  55.53            55.53         0.0            1   \n",
       "996      Sequential Art  57.06            57.06         0.0            1   \n",
       "997  Historical Fiction  16.97            16.97         0.0            1   \n",
       "998             Mystery  53.98            53.98         0.0            1   \n",
       "999              Travel  26.08            26.08         0.0            1   \n",
       "\n",
       "     Number_of_reviews                                   Book_Description  \\\n",
       "0                    0  It's hard to imagine a world without A Light i...   \n",
       "1                    0  \"Erotic and absorbing...Written with starling ...   \n",
       "2                    0  Dans une France assez proche de la nÃ´tre, un ...   \n",
       "3                    0  WICKED above her hipbone, GIRL across her hear...   \n",
       "4                    0  From a renowned historian comes a groundbreaki...   \n",
       "..                 ...                                                ...   \n",
       "995                  0                                       \\n\\n\\n\\n\\n\\n   \n",
       "996                  0  High school student Kei Nagai is struck dead i...   \n",
       "997                  0  In Englandâs Regency era, manners and elegan...   \n",
       "998                  0  James Patterson, bestselling author of the Ale...   \n",
       "999                  0  Around the World, continent by continent, here...   \n",
       "\n",
       "                                            Image_Link  Stars  \n",
       "0    http://books.toscrape.com/media/cache/fe/72/fe...      3  \n",
       "1    http://books.toscrape.com/media/cache/08/e9/08...      1  \n",
       "2    http://books.toscrape.com/media/cache/ee/cf/ee...      1  \n",
       "3    http://books.toscrape.com/media/cache/c0/59/c0...      4  \n",
       "4    http://books.toscrape.com/media/cache/ce/5f/ce...      5  \n",
       "..                                                 ...    ...  \n",
       "995  http://books.toscrape.com/media/cache/99/df/99...      1  \n",
       "996  http://books.toscrape.com/media/cache/30/98/30...      4  \n",
       "997  http://books.toscrape.com/media/cache/f9/6b/f9...      5  \n",
       "998  http://books.toscrape.com/media/cache/f6/8e/f6...      1  \n",
       "999  http://books.toscrape.com/media/cache/9e/10/9e...      5  \n",
       "\n",
       "[1000 rows x 11 columns]"
      ]
     },
     "execution_count": 6,
     "metadata": {},
     "output_type": "execute_result"
    }
   ],
   "source": [
    "df"
   ]
  }
 ],
 "metadata": {
  "kernelspec": {
   "display_name": "Python 3 (ipykernel)",
   "language": "python",
   "name": "python3"
  },
  "language_info": {
   "codemirror_mode": {
    "name": "ipython",
    "version": 3
   },
   "file_extension": ".py",
   "mimetype": "text/x-python",
   "name": "python",
   "nbconvert_exporter": "python",
   "pygments_lexer": "ipython3",
   "version": "3.10.5"
  }
 },
 "nbformat": 4,
 "nbformat_minor": 5
}
