{
 "cells": [
  {
   "cell_type": "markdown",
   "id": "e36bc53d",
   "metadata": {},
   "source": [
    "# NumPy - wprowadzenie"
   ]
  },
  {
   "cell_type": "markdown",
   "id": "d55ecc0a",
   "metadata": {},
   "source": [
    "Na podstawie:\n",
    "- rozdz. 4 książki `Wes McKinney, \"Python w analizie danych. Przetwarzanie danych za pomocą pakietów Pandas i NumPy oraz środowiska IPython. Wydanie II\", Helion, 2018`, https://helion.pl/ksiazki/python-w-analizie-danych-przetwarzanie-danych-za-pomoca-pakietow-pandas-i-numpy-oraz-srodowiska-ipy-wes-mckinney,pytand.htm#format/d\n",
    "- dokumentacji NumPy: https://numpy.org/doc/stable/user/absolute_beginners.html"
   ]
  },
  {
   "cell_type": "markdown",
   "id": "58d6f32c",
   "metadata": {},
   "source": [
    "NumPy jest pakietem do obliczeń numerycznych Python. Jest znacznie bardziej efektywny w przetwarzaniu danych tablicowych, niż standardowe typy danych Python."
   ]
  },
  {
   "cell_type": "code",
   "execution_count": 14,
   "id": "6aa15da4",
   "metadata": {},
   "outputs": [],
   "source": [
    "import numpy as np"
   ]
  },
  {
   "cell_type": "code",
   "execution_count": 15,
   "id": "a4a6b7b3",
   "metadata": {},
   "outputs": [
    {
     "name": "stdout",
     "output_type": "stream",
     "text": [
      "CPU times: total: 359 ms\n",
      "Wall time: 371 ms\n"
     ]
    }
   ],
   "source": [
    "numpy_array = np.arange(100000000)\n",
    "%time numpy_array = numpy_array * 2"
   ]
  },
  {
   "cell_type": "code",
   "execution_count": 16,
   "id": "b40fccbc",
   "metadata": {},
   "outputs": [
    {
     "name": "stdout",
     "output_type": "stream",
     "text": [
      "CPU times: total: 50.2 s\n",
      "Wall time: 1min 4s\n"
     ]
    }
   ],
   "source": [
    "python_list = list(range(100000000))\n",
    "%time python_list = [x * 2 for x in python_list]"
   ]
  },
  {
   "cell_type": "markdown",
   "id": "b8b5d7df",
   "metadata": {},
   "source": [
    "# `ndarray` - $n$-wymiarowy obiekt tablicowy"
   ]
  },
  {
   "cell_type": "markdown",
   "id": "52949135",
   "metadata": {},
   "source": [
    "Tworzenie tablicy na podstawie listy"
   ]
  },
  {
   "cell_type": "code",
   "execution_count": 17,
   "id": "54dad770",
   "metadata": {},
   "outputs": [
    {
     "data": {
      "text/plain": [
       "array([[1, 2],\n",
       "       [3, 4],\n",
       "       [5, 6]])"
      ]
     },
     "execution_count": 17,
     "metadata": {},
     "output_type": "execute_result"
    }
   ],
   "source": [
    "tablica = np.array([[1,2],[3,4],[5,6]])\n",
    "tablica"
   ]
  },
  {
   "cell_type": "markdown",
   "id": "9c48de51",
   "metadata": {},
   "source": [
    "Tworzenie losowej tablicy dwuwymiarowej o 3 wierszach i 4 kolumnach"
   ]
  },
  {
   "cell_type": "code",
   "execution_count": 18,
   "id": "3bc5e3c5",
   "metadata": {},
   "outputs": [
    {
     "data": {
      "text/plain": [
       "array([[-0.12456015, -0.96349759, -0.79887021,  0.96459786],\n",
       "       [-0.32210851,  0.63047545, -1.07032866,  0.65437141],\n",
       "       [-1.04224788,  0.11956796,  0.78205093,  0.92952595]])"
      ]
     },
     "execution_count": 18,
     "metadata": {},
     "output_type": "execute_result"
    }
   ],
   "source": [
    "tablica = np.random.randn(3,4)\n",
    "tablica"
   ]
  },
  {
   "cell_type": "markdown",
   "id": "3cc9bdff",
   "metadata": {},
   "source": [
    "Dla obiektów `ndarray` możemy wykorzystywać operatory arytmetyczne"
   ]
  },
  {
   "cell_type": "code",
   "execution_count": 19,
   "id": "8bbbd6d6",
   "metadata": {},
   "outputs": [
    {
     "data": {
      "text/plain": [
       "array([[ -2.49120297, -19.26995185, -15.97740419,  19.29195729],\n",
       "       [ -6.4421702 ,  12.60950899, -21.40657316,  13.08742828],\n",
       "       [-20.84495762,   2.3913591 ,  15.64101861,  18.59051901]])"
      ]
     },
     "execution_count": 19,
     "metadata": {},
     "output_type": "execute_result"
    }
   ],
   "source": [
    "tablica * 20"
   ]
  },
  {
   "cell_type": "code",
   "execution_count": 20,
   "id": "399cf31f",
   "metadata": {},
   "outputs": [
    {
     "data": {
      "text/plain": [
       "array([[0., 0., 0., 0.],\n",
       "       [0., 0., 0., 0.],\n",
       "       [0., 0., 0., 0.]])"
      ]
     },
     "execution_count": 20,
     "metadata": {},
     "output_type": "execute_result"
    }
   ],
   "source": [
    "tablica - tablica"
   ]
  },
  {
   "cell_type": "markdown",
   "id": "d29a28d4",
   "metadata": {},
   "source": [
    "Atrybuty obiektu `ndarray` zawierają, m.in., liczbę wymiarów, kształt i typ danych"
   ]
  },
  {
   "cell_type": "code",
   "execution_count": 21,
   "id": "f9661b23",
   "metadata": {},
   "outputs": [
    {
     "data": {
      "text/plain": [
       "2"
      ]
     },
     "execution_count": 21,
     "metadata": {},
     "output_type": "execute_result"
    }
   ],
   "source": [
    "tablica.ndim # tablica dwuwymiarowa"
   ]
  },
  {
   "cell_type": "code",
   "execution_count": 22,
   "id": "7f98217b",
   "metadata": {},
   "outputs": [
    {
     "data": {
      "text/plain": [
       "(3, 4)"
      ]
     },
     "execution_count": 22,
     "metadata": {},
     "output_type": "execute_result"
    }
   ],
   "source": [
    "tablica.shape # dla tablicy 2-wymiarowej będzie to liczba wierszy i kolumn"
   ]
  },
  {
   "cell_type": "code",
   "execution_count": 23,
   "id": "6c675561",
   "metadata": {},
   "outputs": [
    {
     "data": {
      "text/plain": [
       "dtype('float64')"
      ]
     },
     "execution_count": 23,
     "metadata": {},
     "output_type": "execute_result"
    }
   ],
   "source": [
    "tablica.dtype # tutaj będzie to 64-bitowy zmiennoprzecinkowy"
   ]
  },
  {
   "cell_type": "markdown",
   "id": "1678e4b6",
   "metadata": {},
   "source": [
    "## Tworzenie obiektu `ndarray`"
   ]
  },
  {
   "cell_type": "markdown",
   "id": "4c08da33",
   "metadata": {},
   "source": [
    "Tworzenie tablicy na podstawie obiektu sekwencyjnego."
   ]
  },
  {
   "cell_type": "code",
   "execution_count": 24,
   "id": "03e8e7f9",
   "metadata": {},
   "outputs": [
    {
     "data": {
      "text/plain": [
       "array([0, 1, 2, 3, 4, 5, 6, 7, 8, 9])"
      ]
     },
     "execution_count": 24,
     "metadata": {},
     "output_type": "execute_result"
    }
   ],
   "source": [
    "dane = list(range(10))\n",
    "tablica = np.array(dane)\n",
    "tablica # tablica jednowymiarowa"
   ]
  },
  {
   "cell_type": "code",
   "execution_count": 25,
   "id": "3de34f6e",
   "metadata": {},
   "outputs": [
    {
     "data": {
      "text/plain": [
       "array([[ 0,  1,  2,  3,  4,  5,  6,  7,  8,  9],\n",
       "       [10, 11, 12, 13, 14, 15, 16, 17, 18, 19]])"
      ]
     },
     "execution_count": 25,
     "metadata": {},
     "output_type": "execute_result"
    }
   ],
   "source": [
    "dane2 = [dane, list(range(10,20))]\n",
    "tablica2 = np.array(dane2)\n",
    "tablica2 # tablica dwuwymiarowa"
   ]
  },
  {
   "cell_type": "markdown",
   "id": "1c810792",
   "metadata": {},
   "source": [
    "Podczas tworzenia tablicy na podstawie danych wejściowych NumPy samodzielnie próbuje ustalić typ danych"
   ]
  },
  {
   "cell_type": "code",
   "execution_count": 26,
   "id": "ea83ec0f",
   "metadata": {},
   "outputs": [
    {
     "data": {
      "text/plain": [
       "dtype('int32')"
      ]
     },
     "execution_count": 26,
     "metadata": {},
     "output_type": "execute_result"
    }
   ],
   "source": [
    "tablica2.dtype"
   ]
  },
  {
   "cell_type": "markdown",
   "id": "9c843a97",
   "metadata": {},
   "source": [
    "Tworzenie tablic wypełnionych zerami `np.zeros()`, jedynkami `np.ones()` i wartościami nieokreślonymi `np.empty()`"
   ]
  },
  {
   "cell_type": "code",
   "execution_count": 27,
   "id": "b09aeb7e",
   "metadata": {},
   "outputs": [
    {
     "data": {
      "text/plain": [
       "array([[0., 0.],\n",
       "       [0., 0.],\n",
       "       [0., 0.],\n",
       "       [0., 0.]])"
      ]
     },
     "execution_count": 27,
     "metadata": {},
     "output_type": "execute_result"
    }
   ],
   "source": [
    "np.zeros((4,2)) # pierwszy argument to krotka z rozmiarami wymiarów"
   ]
  },
  {
   "cell_type": "code",
   "execution_count": 28,
   "id": "49359b37",
   "metadata": {},
   "outputs": [
    {
     "data": {
      "text/plain": [
       "array([[[1.],\n",
       "        [1.]],\n",
       "\n",
       "       [[1.],\n",
       "        [1.]],\n",
       "\n",
       "       [[1.],\n",
       "        [1.]]])"
      ]
     },
     "execution_count": 28,
     "metadata": {},
     "output_type": "execute_result"
    }
   ],
   "source": [
    "np.ones((3,2,1))"
   ]
  },
  {
   "cell_type": "code",
   "execution_count": 29,
   "id": "92154b04",
   "metadata": {},
   "outputs": [
    {
     "data": {
      "text/plain": [
       "array([2.12199579e-314, 1.27319747e-311, 3.55727265e-322, 3.79442416e-321,\n",
       "       0.00000000e+000])"
      ]
     },
     "execution_count": 29,
     "metadata": {},
     "output_type": "execute_result"
    }
   ],
   "source": [
    "np.empty(5) # tylko jeden wymiar; komórki pamięci nie są inicjowane"
   ]
  },
  {
   "cell_type": "markdown",
   "id": "1de2c9b6",
   "metadata": {},
   "source": [
    "Tworzenie tablicy za pomocą funkcji `np.arange()`, odpowiednika `range()`"
   ]
  },
  {
   "cell_type": "code",
   "execution_count": 30,
   "id": "44a68999",
   "metadata": {},
   "outputs": [
    {
     "data": {
      "text/plain": [
       "array([  5,  15,  25,  35,  45,  55,  65,  75,  85,  95, 105, 115])"
      ]
     },
     "execution_count": 30,
     "metadata": {},
     "output_type": "execute_result"
    }
   ],
   "source": [
    "np.arange(5,125,10) # początek, koniec, krok"
   ]
  },
  {
   "cell_type": "markdown",
   "id": "38a23cc5",
   "metadata": {},
   "source": [
    "**Zadanie 1**. Sprawdź do czego służą i przetestuj działanie następujących funkcji tworzących tablice `ndarray`:\n",
    "1. `asarray`\n",
    "2. `ones_like`\n",
    "3. `zeros_like`\n",
    "4. `full`\n",
    "5. `full_like`\n",
    "6. `eye`\n",
    "7. `identity`"
   ]
  },
  {
   "cell_type": "markdown",
   "id": "a4155b52",
   "metadata": {},
   "source": [
    "## Typ danych `ndarray`: `dtype`"
   ]
  },
  {
   "cell_type": "markdown",
   "id": "83cca640",
   "metadata": {},
   "source": [
    "Przy tworzeniu tablicy można jawnie podać typ danych przechowywanych w tablicy"
   ]
  },
  {
   "cell_type": "code",
   "execution_count": 31,
   "id": "820e7c70",
   "metadata": {},
   "outputs": [
    {
     "data": {
      "text/plain": [
       "array([0, 1, 2, 3, 4, 5, 6, 7, 8, 9])"
      ]
     },
     "execution_count": 31,
     "metadata": {},
     "output_type": "execute_result"
    }
   ],
   "source": [
    "tablica_int = np.arange(10, dtype=np.int32)\n",
    "tablica_int"
   ]
  },
  {
   "cell_type": "code",
   "execution_count": 32,
   "id": "f5ef16d7",
   "metadata": {},
   "outputs": [
    {
     "data": {
      "text/plain": [
       "dtype('int32')"
      ]
     },
     "execution_count": 32,
     "metadata": {},
     "output_type": "execute_result"
    }
   ],
   "source": [
    "tablica_int.dtype"
   ]
  },
  {
   "cell_type": "code",
   "execution_count": 33,
   "id": "fb673417",
   "metadata": {},
   "outputs": [
    {
     "data": {
      "text/plain": [
       "array([0., 1., 2., 3., 4., 5., 6., 7., 8., 9.])"
      ]
     },
     "execution_count": 33,
     "metadata": {},
     "output_type": "execute_result"
    }
   ],
   "source": [
    "tablica_double = np.arange(10, dtype=np.double)\n",
    "tablica_double"
   ]
  },
  {
   "cell_type": "code",
   "execution_count": 34,
   "id": "702d5991",
   "metadata": {},
   "outputs": [
    {
     "data": {
      "text/plain": [
       "dtype('float64')"
      ]
     },
     "execution_count": 34,
     "metadata": {},
     "output_type": "execute_result"
    }
   ],
   "source": [
    "tablica_double.dtype"
   ]
  },
  {
   "cell_type": "markdown",
   "id": "86a7e09a",
   "metadata": {},
   "source": [
    "Konwersja typu za pomocą `astype`"
   ]
  },
  {
   "cell_type": "code",
   "execution_count": 35,
   "id": "e54c1388",
   "metadata": {},
   "outputs": [
    {
     "data": {
      "text/plain": [
       "array([0, 1, 2, 3, 4, 5, 6, 7, 8, 9])"
      ]
     },
     "execution_count": 35,
     "metadata": {},
     "output_type": "execute_result"
    }
   ],
   "source": [
    "tablica_int2 = tablica_double.astype(np.int32)\n",
    "tablica_int2"
   ]
  },
  {
   "cell_type": "markdown",
   "id": "b4d546ea",
   "metadata": {},
   "source": [
    "**Zadanie 2**. Sprawdź, w jaki sposób są konwertowane przez funkcję `astype` niecałkowite wartości zmiennoprzecinkowe na wartości całkowite."
   ]
  },
  {
   "cell_type": "markdown",
   "id": "65a3dde7",
   "metadata": {},
   "source": [
    "Szczegółowa informacja o typach wykorzystywanych w NumPy: https://numpy.org/doc/stable/reference/arrays.scalars.html#"
   ]
  },
  {
   "cell_type": "markdown",
   "id": "3a72737f",
   "metadata": {},
   "source": [
    "**Zadanie 3**. Przekonwertuj tablicę wartości zmiennoprzecinkowych na tablicę stringów. Następnie przekonwertuj tablicę stringów z powrotem na wartości zmiennoprzecinkowe."
   ]
  },
  {
   "cell_type": "markdown",
   "id": "826b0566",
   "metadata": {},
   "source": [
    "## Wektoryzacja"
   ]
  },
  {
   "cell_type": "markdown",
   "id": "9744b189",
   "metadata": {},
   "source": [
    "Podobnie jak w języku R, pewne operacja działające na wszystkich elementach tablicy nie wymagają wykorzystywania pętli `for`. Poniżej przykład analogiczne do omawianych w trakcie poprzedniego semestru w języku R (RWprowadzenie2022 - część 1.pdf)"
   ]
  },
  {
   "cell_type": "code",
   "execution_count": 36,
   "id": "8dcfebde",
   "metadata": {},
   "outputs": [
    {
     "data": {
      "text/plain": [
       "array([1, 2, 3, 4, 5, 6])"
      ]
     },
     "execution_count": 36,
     "metadata": {},
     "output_type": "execute_result"
    }
   ],
   "source": [
    "wektorA = np.arange(1,7)\n",
    "wektorB = np.arange(-4,2,1)\n",
    "wektorA"
   ]
  },
  {
   "cell_type": "code",
   "execution_count": 37,
   "id": "0faab365",
   "metadata": {},
   "outputs": [
    {
     "data": {
      "text/plain": [
       "array([-4, -3, -2, -1,  0,  1])"
      ]
     },
     "execution_count": 37,
     "metadata": {},
     "output_type": "execute_result"
    }
   ],
   "source": [
    "wektorB"
   ]
  },
  {
   "cell_type": "code",
   "execution_count": 38,
   "id": "66f4b65a",
   "metadata": {},
   "outputs": [
    {
     "data": {
      "text/plain": [
       "array([-3, -1,  1,  3,  5,  7])"
      ]
     },
     "execution_count": 38,
     "metadata": {},
     "output_type": "execute_result"
    }
   ],
   "source": [
    "wektorA + wektorB"
   ]
  },
  {
   "cell_type": "code",
   "execution_count": 39,
   "id": "7475a7c4",
   "metadata": {},
   "outputs": [
    {
     "data": {
      "text/plain": [
       "array([5, 5, 5, 5, 5, 5])"
      ]
     },
     "execution_count": 39,
     "metadata": {},
     "output_type": "execute_result"
    }
   ],
   "source": [
    "wektorA - wektorB"
   ]
  },
  {
   "cell_type": "code",
   "execution_count": 40,
   "id": "985d1b02",
   "metadata": {},
   "outputs": [
    {
     "data": {
      "text/plain": [
       "array([-1, -2, -3, -4])"
      ]
     },
     "execution_count": 40,
     "metadata": {},
     "output_type": "execute_result"
    }
   ],
   "source": [
    "wektorD = np.arange(-1,-5,-1)\n",
    "wektorD"
   ]
  },
  {
   "cell_type": "code",
   "execution_count": 41,
   "id": "60e5f6ab",
   "metadata": {},
   "outputs": [
    {
     "ename": "ValueError",
     "evalue": "operands could not be broadcast together with shapes (6,) (4,) ",
     "output_type": "error",
     "traceback": [
      "\u001b[1;31m---------------------------------------------------------------------------\u001b[0m",
      "\u001b[1;31mValueError\u001b[0m                                Traceback (most recent call last)",
      "Cell \u001b[1;32mIn [41], line 1\u001b[0m\n\u001b[1;32m----> 1\u001b[0m \u001b[43mwektorA\u001b[49m\u001b[43m \u001b[49m\u001b[38;5;241;43m+\u001b[39;49m\u001b[43m \u001b[49m\u001b[43mwektorD\u001b[49m\n",
      "\u001b[1;31mValueError\u001b[0m: operands could not be broadcast together with shapes (6,) (4,) "
     ]
    }
   ],
   "source": [
    "wektorA + wektorD # jaki był rezultat w R?"
   ]
  },
  {
   "cell_type": "code",
   "execution_count": 42,
   "id": "4030f395",
   "metadata": {},
   "outputs": [
    {
     "data": {
      "text/plain": [
       "array([-1, -2, -3, -4, -5, -6])"
      ]
     },
     "execution_count": 42,
     "metadata": {},
     "output_type": "execute_result"
    }
   ],
   "source": [
    "wektorE = np.array(-1)\n",
    "wektorA * wektorE"
   ]
  },
  {
   "cell_type": "code",
   "execution_count": 43,
   "id": "e852ae9d",
   "metadata": {},
   "outputs": [
    {
     "data": {
      "text/plain": [
       "array([ True,  True,  True, False, False, False])"
      ]
     },
     "execution_count": 43,
     "metadata": {},
     "output_type": "execute_result"
    }
   ],
   "source": [
    "wektorA < 4"
   ]
  },
  {
   "cell_type": "code",
   "execution_count": 44,
   "id": "07574201",
   "metadata": {},
   "outputs": [
    {
     "data": {
      "text/plain": [
       "array([ True,  True, False, False, False, False])"
      ]
     },
     "execution_count": 44,
     "metadata": {},
     "output_type": "execute_result"
    }
   ],
   "source": [
    "wektorF = np.arange(4,-2,-1)\n",
    "wektorA <= wektorF"
   ]
  },
  {
   "cell_type": "markdown",
   "id": "14eded37",
   "metadata": {},
   "source": [
    "Dla operacji na tablicach o nierównych rozmiarach stosuje się tzw. rozłgaszanie (broadcasting): https://numpy.org/doc/stable/user/basics.broadcasting.html"
   ]
  },
  {
   "cell_type": "markdown",
   "id": "f9dc3c2d",
   "metadata": {},
   "source": [
    "**Zadanie 4**. Zaprezentuj przykład rozgłaszania na dowolnej dwuargumentowej operacji gdzie pierwszym argumentem jest tablica trójwymiarowa, a drugim argumentem tablica dwuwymiarowa."
   ]
  },
  {
   "cell_type": "markdown",
   "id": "034e6f23",
   "metadata": {},
   "source": [
    "## Indeksowanie"
   ]
  },
  {
   "cell_type": "markdown",
   "id": "a64f625a",
   "metadata": {},
   "source": [
    "Dla tablic jednowymiarowych tak jak w standardowych typach sekwencyjnych"
   ]
  },
  {
   "cell_type": "code",
   "execution_count": 45,
   "id": "2889af86",
   "metadata": {},
   "outputs": [
    {
     "data": {
      "text/plain": [
       "array([102, 103, 104, 105])"
      ]
     },
     "execution_count": 45,
     "metadata": {},
     "output_type": "execute_result"
    }
   ],
   "source": [
    "tablica = np.arange(100,110)\n",
    "tablica[2:6]"
   ]
  },
  {
   "cell_type": "markdown",
   "id": "28450014",
   "metadata": {},
   "source": [
    "Przy przypisaniu do zakresu stosowane jest rozgłaszanie"
   ]
  },
  {
   "cell_type": "code",
   "execution_count": 46,
   "id": "b7f19480",
   "metadata": {},
   "outputs": [
    {
     "data": {
      "text/plain": [
       "array([100, 101,  -1,  -1,  -1,  -1, 106, 107, 108, 109])"
      ]
     },
     "execution_count": 46,
     "metadata": {},
     "output_type": "execute_result"
    }
   ],
   "source": [
    "tablica[2:6] = -1\n",
    "tablica"
   ]
  },
  {
   "cell_type": "markdown",
   "id": "eb27aab7",
   "metadata": {},
   "source": [
    "Uwaga! Przypisanie wycinka tablicy nie tworzy kopii tego wycinka, lecz nadal odnosi się do tej tablicy!"
   ]
  },
  {
   "cell_type": "code",
   "execution_count": 47,
   "id": "12606600",
   "metadata": {},
   "outputs": [
    {
     "data": {
      "text/plain": [
       "array([ 100,  101, -100, -100, -100, -100,  106,  107,  108,  109])"
      ]
     },
     "execution_count": 47,
     "metadata": {},
     "output_type": "execute_result"
    }
   ],
   "source": [
    "wycinek = tablica[2:6]\n",
    "wycinek[:] = -100\n",
    "tablica"
   ]
  },
  {
   "cell_type": "markdown",
   "id": "bc963f45",
   "metadata": {},
   "source": [
    "Aby operować na kopii, należy ją jawnie utworzyć"
   ]
  },
  {
   "cell_type": "code",
   "execution_count": 48,
   "id": "2cef4c3e",
   "metadata": {},
   "outputs": [
    {
     "data": {
      "text/plain": [
       "array([ 100,  101, -100, -100, -100, -100,  106,  107,  108,  109])"
      ]
     },
     "execution_count": 48,
     "metadata": {},
     "output_type": "execute_result"
    }
   ],
   "source": [
    "wycinek = tablica[2:6].copy()\n",
    "wycinek[:] = 1000 # teraz modyfikujemy tylko kopię w wycinku\n",
    "tablica"
   ]
  },
  {
   "cell_type": "markdown",
   "id": "cd55a8ac",
   "metadata": {},
   "source": [
    "Dla tablic o większej liczbie wymiarów indeksowanie jest rekurencyjne"
   ]
  },
  {
   "cell_type": "code",
   "execution_count": 49,
   "id": "5ba7b808",
   "metadata": {},
   "outputs": [
    {
     "data": {
      "text/plain": [
       "array([[[ 0,  1,  2,  3,  4],\n",
       "        [ 5,  6,  7,  8,  9],\n",
       "        [10, 11, 12, 13, 14],\n",
       "        [15, 16, 17, 18, 19]],\n",
       "\n",
       "       [[20, 21, 22, 23, 24],\n",
       "        [25, 26, 27, 28, 29],\n",
       "        [30, 31, 32, 33, 34],\n",
       "        [35, 36, 37, 38, 39]],\n",
       "\n",
       "       [[40, 41, 42, 43, 44],\n",
       "        [45, 46, 47, 48, 49],\n",
       "        [50, 51, 52, 53, 54],\n",
       "        [55, 56, 57, 58, 59]]])"
      ]
     },
     "execution_count": 49,
     "metadata": {},
     "output_type": "execute_result"
    }
   ],
   "source": [
    "tablica = np.arange(60).reshape((3,4,5)) # zmiana kształtu z wektora na tablicę trójwymiarową\n",
    "tablica "
   ]
  },
  {
   "cell_type": "code",
   "execution_count": 50,
   "id": "3147019b",
   "metadata": {},
   "outputs": [
    {
     "data": {
      "text/plain": [
       "array([[20, 21, 22, 23, 24],\n",
       "       [25, 26, 27, 28, 29],\n",
       "       [30, 31, 32, 33, 34],\n",
       "       [35, 36, 37, 38, 39]])"
      ]
     },
     "execution_count": 50,
     "metadata": {},
     "output_type": "execute_result"
    }
   ],
   "source": [
    "tablica[1] # rezultat to dwuwymiarowa tablica"
   ]
  },
  {
   "cell_type": "code",
   "execution_count": 51,
   "id": "5cb5dffa",
   "metadata": {},
   "outputs": [
    {
     "data": {
      "text/plain": [
       "array([30, 31, 32, 33, 34])"
      ]
     },
     "execution_count": 51,
     "metadata": {},
     "output_type": "execute_result"
    }
   ],
   "source": [
    "tablica[1][2] # rezultat to jednowymiarowa tablica"
   ]
  },
  {
   "cell_type": "code",
   "execution_count": 52,
   "id": "527f97d5",
   "metadata": {},
   "outputs": [
    {
     "data": {
      "text/plain": [
       "33"
      ]
     },
     "execution_count": 52,
     "metadata": {},
     "output_type": "execute_result"
    }
   ],
   "source": [
    "tablica[1][2][3] # rezultat to skalar"
   ]
  },
  {
   "cell_type": "markdown",
   "id": "68f8ff36",
   "metadata": {},
   "source": [
    "Alternatywny sposób adresowania z przecinkami"
   ]
  },
  {
   "cell_type": "code",
   "execution_count": 53,
   "id": "eb0a045c",
   "metadata": {},
   "outputs": [
    {
     "data": {
      "text/plain": [
       "array([30, 31, 32, 33, 34])"
      ]
     },
     "execution_count": 53,
     "metadata": {},
     "output_type": "execute_result"
    }
   ],
   "source": [
    "tablica[1,2] # rezultat to jednowymiarowa tablica"
   ]
  },
  {
   "cell_type": "code",
   "execution_count": 54,
   "id": "7f675f34",
   "metadata": {},
   "outputs": [
    {
     "data": {
      "text/plain": [
       "33"
      ]
     },
     "execution_count": 54,
     "metadata": {},
     "output_type": "execute_result"
    }
   ],
   "source": [
    "tablica[1,2,3] # rezultat to skalar"
   ]
  },
  {
   "cell_type": "markdown",
   "id": "bc452abb",
   "metadata": {},
   "source": [
    "Przykład rozgłaszania przy indeksowaniu"
   ]
  },
  {
   "cell_type": "code",
   "execution_count": 55,
   "id": "39063ae9",
   "metadata": {},
   "outputs": [
    {
     "data": {
      "text/plain": [
       "array([[[ 0,  1,  2,  3,  4],\n",
       "        [ 5,  6,  7,  8,  9],\n",
       "        [10, 11, 12, 13, 14],\n",
       "        [15, 16, 17, 18, 19]],\n",
       "\n",
       "       [[ 7,  7,  7,  7,  7],\n",
       "        [ 7,  7,  7,  7,  7],\n",
       "        [ 7,  7,  7,  7,  7],\n",
       "        [ 7,  7,  7,  7,  7]],\n",
       "\n",
       "       [[40, 41, 42, 43, 44],\n",
       "        [45, 46, 47, 48, 49],\n",
       "        [50, 51, 52, 53, 54],\n",
       "        [55, 56, 57, 58, 59]]])"
      ]
     },
     "execution_count": 55,
     "metadata": {},
     "output_type": "execute_result"
    }
   ],
   "source": [
    "tablica[1]=7\n",
    "tablica"
   ]
  },
  {
   "cell_type": "markdown",
   "id": "f7837d15",
   "metadata": {},
   "source": [
    "Podawanie zakresu wycinka dla każdego wymiaru"
   ]
  },
  {
   "cell_type": "code",
   "execution_count": 56,
   "id": "bc5a46b3",
   "metadata": {},
   "outputs": [
    {
     "data": {
      "text/plain": [
       "array([[[11, 12, 13, 14],\n",
       "        [16, 17, 18, 19]]])"
      ]
     },
     "execution_count": 56,
     "metadata": {},
     "output_type": "execute_result"
    }
   ],
   "source": [
    "tablica[:1,2:4,1:]"
   ]
  },
  {
   "cell_type": "markdown",
   "id": "6f1dc3ca",
   "metadata": {},
   "source": [
    "Możliwe jest także indeksowanie za pomocą warunków logicznych"
   ]
  },
  {
   "cell_type": "code",
   "execution_count": 57,
   "id": "695cedc2",
   "metadata": {},
   "outputs": [
    {
     "data": {
      "text/plain": [
       "array([[[10, 11, 12, 13, 14],\n",
       "        [15, 16, 17, 18, 19]],\n",
       "\n",
       "       [[50, 51, 52, 53, 54],\n",
       "        [55, 56, 57, 58, 59]]])"
      ]
     },
     "execution_count": 57,
     "metadata": {},
     "output_type": "execute_result"
    }
   ],
   "source": [
    "parzystosc = np.array(['parzysta', 'nieparzysta', 'parzysta'])\n",
    "tablica[parzystosc=='parzysta',2:4,:]"
   ]
  },
  {
   "cell_type": "markdown",
   "id": "4e9672f4",
   "metadata": {},
   "source": [
    "Użycie znaku `~` powoduje wstawienie wszystkich indeksów oprócz podanych"
   ]
  },
  {
   "cell_type": "code",
   "execution_count": 58,
   "id": "1ecb6753",
   "metadata": {},
   "outputs": [
    {
     "data": {
      "text/plain": [
       "array([[[7, 7, 7, 7, 7],\n",
       "        [7, 7, 7, 7, 7],\n",
       "        [7, 7, 7, 7, 7]]])"
      ]
     },
     "execution_count": 58,
     "metadata": {},
     "output_type": "execute_result"
    }
   ],
   "source": [
    "tablica[~(parzystosc=='parzysta'),~2:4,:] # które numery wierszy są wyświetlane?"
   ]
  },
  {
   "cell_type": "markdown",
   "id": "0cfd5d4a",
   "metadata": {},
   "source": [
    "Możliwe jest tworzenie bardziej skomplikowanych warunków logicznych z wykorzystaniem operatorów `|` (lub), `&` (i) oraz `!` (negacja)."
   ]
  },
  {
   "cell_type": "markdown",
   "id": "36819ccc",
   "metadata": {},
   "source": [
    "## Indeksowanie wektorami"
   ]
  },
  {
   "cell_type": "markdown",
   "id": "18ef8277",
   "metadata": {},
   "source": [
    "Możliwe jest także indeksowanie wektorami liczba całkowitych"
   ]
  },
  {
   "cell_type": "code",
   "execution_count": 59,
   "id": "34b6a499",
   "metadata": {},
   "outputs": [
    {
     "data": {
      "text/plain": [
       "array([15, 14, 19, 19])"
      ]
     },
     "execution_count": 59,
     "metadata": {},
     "output_type": "execute_result"
    }
   ],
   "source": [
    "tablica = np.arange(10,20)\n",
    "tablica_indeksow = np.array([5,4,-1,9])\n",
    "tablica[tablica_indeksow]"
   ]
  },
  {
   "cell_type": "markdown",
   "id": "e7a608e8",
   "metadata": {},
   "source": [
    "W przypadku podania większej liczby argumentów jako indeksy, wybierane są krotki z poszczególnych pozycji argumentów"
   ]
  },
  {
   "cell_type": "code",
   "execution_count": 60,
   "id": "57c7fad5",
   "metadata": {},
   "outputs": [
    {
     "data": {
      "text/plain": [
       "array([[[  0,   1,   2,   3,   4,   5],\n",
       "        [  6,   7,   8,   9,  10,  11],\n",
       "        [ 12,  13,  14,  15,  16,  17],\n",
       "        [ 18,  19,  20,  21,  22,  23],\n",
       "        [ 24,  25,  26,  27,  28,  29]],\n",
       "\n",
       "       [[ 30,  31,  32,  33,  34,  35],\n",
       "        [ 36,  37,  38,  39,  40,  41],\n",
       "        [ 42,  43,  44,  45,  46,  47],\n",
       "        [ 48,  49,  50,  51,  52,  53],\n",
       "        [ 54,  55,  56,  57,  58,  59]],\n",
       "\n",
       "       [[ 60,  61,  62,  63,  64,  65],\n",
       "        [ 66,  67,  68,  69,  70,  71],\n",
       "        [ 72,  73,  74,  75,  76,  77],\n",
       "        [ 78,  79,  80,  81,  82,  83],\n",
       "        [ 84,  85,  86,  87,  88,  89]],\n",
       "\n",
       "       [[ 90,  91,  92,  93,  94,  95],\n",
       "        [ 96,  97,  98,  99, 100, 101],\n",
       "        [102, 103, 104, 105, 106, 107],\n",
       "        [108, 109, 110, 111, 112, 113],\n",
       "        [114, 115, 116, 117, 118, 119]]])"
      ]
     },
     "execution_count": 60,
     "metadata": {},
     "output_type": "execute_result"
    }
   ],
   "source": [
    "tablica = np.arange(4*5*6).reshape((4,5,6))\n",
    "tablica"
   ]
  },
  {
   "cell_type": "code",
   "execution_count": 61,
   "id": "ab29e3c1",
   "metadata": {},
   "outputs": [
    {
     "data": {
      "text/plain": [
       "array([[ 12,  13,  14,  15,  16,  17],\n",
       "       [ 78,  79,  80,  81,  82,  83],\n",
       "       [114, 115, 116, 117, 118, 119]])"
      ]
     },
     "execution_count": 61,
     "metadata": {},
     "output_type": "execute_result"
    }
   ],
   "source": [
    "tablica[[0,2,3], [2,3,4]] # pierwsza strona trzeci wiersz, trzecia strona czwarty wiersz, czwarta strona piąty wiersz"
   ]
  },
  {
   "cell_type": "code",
   "execution_count": 62,
   "id": "c6a12ce5",
   "metadata": {},
   "outputs": [
    {
     "data": {
      "text/plain": [
       "array([ 13,  80, 117])"
      ]
     },
     "execution_count": 62,
     "metadata": {},
     "output_type": "execute_result"
    }
   ],
   "source": [
    "tablica[[0,2,3], [2,3,4], [-5,-4,-3]]"
   ]
  },
  {
   "cell_type": "markdown",
   "id": "3581db7d",
   "metadata": {},
   "source": [
    "W przypadku indeksowania wektorami całkowitoliczbowymi tworzone są kopie (w przeciwieństwie do wycinków)."
   ]
  },
  {
   "cell_type": "markdown",
   "id": "d8c23b7e",
   "metadata": {},
   "source": [
    "## Transpozycja, permutacja osi"
   ]
  },
  {
   "cell_type": "markdown",
   "id": "09304b6e",
   "metadata": {},
   "source": [
    "Tablice dysponują atrybutem T dającym dostęp do tablicy transponowanej"
   ]
  },
  {
   "cell_type": "code",
   "execution_count": 63,
   "id": "b1434ad6",
   "metadata": {},
   "outputs": [
    {
     "data": {
      "text/plain": [
       "array([[ 0,  1,  2,  3,  4,  5],\n",
       "       [ 6,  7,  8,  9, 10, 11],\n",
       "       [12, 13, 14, 15, 16, 17]])"
      ]
     },
     "execution_count": 63,
     "metadata": {},
     "output_type": "execute_result"
    }
   ],
   "source": [
    "tablica = np.arange(3*6).reshape((3,6))\n",
    "tablica"
   ]
  },
  {
   "cell_type": "code",
   "execution_count": 64,
   "id": "deb041c6",
   "metadata": {},
   "outputs": [
    {
     "data": {
      "text/plain": [
       "array([[ 0,  6, 12],\n",
       "       [ 1,  7, 13],\n",
       "       [ 2,  8, 14],\n",
       "       [ 3,  9, 15],\n",
       "       [ 4, 10, 16],\n",
       "       [ 5, 11, 17]])"
      ]
     },
     "execution_count": 64,
     "metadata": {},
     "output_type": "execute_result"
    }
   ],
   "source": [
    "tablica.T"
   ]
  },
  {
   "cell_type": "markdown",
   "id": "c303317a",
   "metadata": {},
   "source": [
    "Możliwe jest także wykorzystanie metody `transpose`"
   ]
  },
  {
   "cell_type": "code",
   "execution_count": 65,
   "id": "7573d279",
   "metadata": {},
   "outputs": [
    {
     "data": {
      "text/plain": [
       "array([[ 0,  6, 12],\n",
       "       [ 1,  7, 13],\n",
       "       [ 2,  8, 14],\n",
       "       [ 3,  9, 15],\n",
       "       [ 4, 10, 16],\n",
       "       [ 5, 11, 17]])"
      ]
     },
     "execution_count": 65,
     "metadata": {},
     "output_type": "execute_result"
    }
   ],
   "source": [
    "tablica.transpose()"
   ]
  },
  {
   "cell_type": "markdown",
   "id": "3a2eaa1a",
   "metadata": {},
   "source": [
    "W przypadku tablic o większej liczbie wymiarów do metody transpose możemy podać permutację, która określa w jaki sposób zostaną zamienione osie"
   ]
  },
  {
   "cell_type": "code",
   "execution_count": 66,
   "id": "6c454c9d",
   "metadata": {},
   "outputs": [
    {
     "data": {
      "text/plain": [
       "array([[[ 0,  1,  2,  3,  4,  5],\n",
       "        [ 6,  7,  8,  9, 10, 11],\n",
       "        [12, 13, 14, 15, 16, 17]],\n",
       "\n",
       "       [[18, 19, 20, 21, 22, 23],\n",
       "        [24, 25, 26, 27, 28, 29],\n",
       "        [30, 31, 32, 33, 34, 35]]])"
      ]
     },
     "execution_count": 66,
     "metadata": {},
     "output_type": "execute_result"
    }
   ],
   "source": [
    "tablica = np.arange(2*3*6).reshape((2,3,6))\n",
    "tablica"
   ]
  },
  {
   "cell_type": "code",
   "execution_count": 67,
   "id": "f33daafa",
   "metadata": {},
   "outputs": [
    {
     "data": {
      "text/plain": [
       "array([[[ 0,  6, 12],\n",
       "        [18, 24, 30]],\n",
       "\n",
       "       [[ 1,  7, 13],\n",
       "        [19, 25, 31]],\n",
       "\n",
       "       [[ 2,  8, 14],\n",
       "        [20, 26, 32]],\n",
       "\n",
       "       [[ 3,  9, 15],\n",
       "        [21, 27, 33]],\n",
       "\n",
       "       [[ 4, 10, 16],\n",
       "        [22, 28, 34]],\n",
       "\n",
       "       [[ 5, 11, 17],\n",
       "        [23, 29, 35]]])"
      ]
     },
     "execution_count": 67,
     "metadata": {},
     "output_type": "execute_result"
    }
   ],
   "source": [
    "tablica.transpose((2,0,1)) # czy ktoś to jeszcze rozumie?"
   ]
  },
  {
   "cell_type": "markdown",
   "id": "4d978cdb",
   "metadata": {},
   "source": [
    "Do zamiany osi można wykorzystać metodę `swapaxes()`."
   ]
  },
  {
   "cell_type": "markdown",
   "id": "28b1cb92",
   "metadata": {},
   "source": [
    "## Funkcje uniwersalne"
   ]
  },
  {
   "cell_type": "markdown",
   "id": "e042dd0b",
   "metadata": {},
   "source": [
    "NumPy oferuje zestaw funkcji uniwersalnych (*universal function*, w skróce *ufunc*) do operacji na tablicach."
   ]
  },
  {
   "cell_type": "code",
   "execution_count": 68,
   "id": "e4cdc3ad",
   "metadata": {},
   "outputs": [
    {
     "data": {
      "text/plain": [
       "array([[0, 1, 2, 3, 4],\n",
       "       [5, 6, 7, 8, 9]])"
      ]
     },
     "execution_count": 68,
     "metadata": {},
     "output_type": "execute_result"
    }
   ],
   "source": [
    "tablica = np.arange(10).reshape(2,5)\n",
    "tablica"
   ]
  },
  {
   "cell_type": "code",
   "execution_count": 69,
   "id": "fc3eea52",
   "metadata": {},
   "outputs": [
    {
     "data": {
      "text/plain": [
       "array([[0.        , 1.        , 1.41421356, 1.73205081, 2.        ],\n",
       "       [2.23606798, 2.44948974, 2.64575131, 2.82842712, 3.        ]])"
      ]
     },
     "execution_count": 69,
     "metadata": {},
     "output_type": "execute_result"
    }
   ],
   "source": [
    "np.sqrt(tablica) #pierwiastek z wszystkich elementów tablicy"
   ]
  },
  {
   "cell_type": "code",
   "execution_count": 70,
   "id": "1896495e",
   "metadata": {},
   "outputs": [
    {
     "data": {
      "text/plain": [
       "array([[10,  9,  8,  7,  6],\n",
       "       [ 5,  4,  3,  2,  1]])"
      ]
     },
     "execution_count": 70,
     "metadata": {},
     "output_type": "execute_result"
    }
   ],
   "source": [
    "tablica2 = np.arange(10,0,-1).reshape(2,5)\n",
    "tablica2"
   ]
  },
  {
   "cell_type": "code",
   "execution_count": 71,
   "id": "7b26cca5",
   "metadata": {},
   "outputs": [
    {
     "data": {
      "text/plain": [
       "array([[0, 1, 2, 3, 4],\n",
       "       [5, 4, 3, 2, 1]])"
      ]
     },
     "execution_count": 71,
     "metadata": {},
     "output_type": "execute_result"
    }
   ],
   "source": [
    "np.minimum(tablica, tablica2) # minimum z poszczególnych pozycji obu tablic"
   ]
  },
  {
   "cell_type": "markdown",
   "id": "9a21ccb9",
   "metadata": {},
   "source": [
    "Pełny zestaw funcji uniwersalnych: https://numpy.org/doc/stable/reference/ufuncs.html"
   ]
  },
  {
   "cell_type": "markdown",
   "id": "a356f9e5",
   "metadata": {},
   "source": [
    "## Operacje warunkowe"
   ]
  },
  {
   "cell_type": "markdown",
   "id": "51d9f7c0",
   "metadata": {},
   "source": [
    "Funkcja `where` umożliwia wykorzystanie tablic logicznych do wyboru elementów z tablic wejściowych"
   ]
  },
  {
   "cell_type": "code",
   "execution_count": 72,
   "id": "c9ce86c0",
   "metadata": {},
   "outputs": [
    {
     "data": {
      "text/plain": [
       "array([ 1,  2,  3,  4,  5,  6,  7,  8,  9, 10])"
      ]
     },
     "execution_count": 72,
     "metadata": {},
     "output_type": "execute_result"
    }
   ],
   "source": [
    "tabA = np.arange(1,11)\n",
    "tabA"
   ]
  },
  {
   "cell_type": "code",
   "execution_count": 73,
   "id": "c9c24ef6",
   "metadata": {},
   "outputs": [
    {
     "data": {
      "text/plain": [
       "array([ 5,  4,  3,  2,  1,  0, -1, -2, -3, -4])"
      ]
     },
     "execution_count": 73,
     "metadata": {},
     "output_type": "execute_result"
    }
   ],
   "source": [
    "tabB = np.arange(5,-5,-1)\n",
    "tabB"
   ]
  },
  {
   "cell_type": "code",
   "execution_count": 74,
   "id": "3270f032",
   "metadata": {},
   "outputs": [
    {
     "data": {
      "text/plain": [
       "array([ True,  True, False, False, False,  True,  True, False,  True,\n",
       "       False])"
      ]
     },
     "execution_count": 74,
     "metadata": {},
     "output_type": "execute_result"
    }
   ],
   "source": [
    "tabLog = np.array([True, True, False, False, False, True, True, False, True, False])\n",
    "tabLog"
   ]
  },
  {
   "cell_type": "code",
   "execution_count": 75,
   "id": "893319e5",
   "metadata": {},
   "outputs": [
    {
     "data": {
      "text/plain": [
       "array([ 1,  2,  3,  2,  1,  6,  7, -2,  9, -4])"
      ]
     },
     "execution_count": 75,
     "metadata": {},
     "output_type": "execute_result"
    }
   ],
   "source": [
    "np.where(tabLog, tabA, tabB)"
   ]
  },
  {
   "cell_type": "code",
   "execution_count": 76,
   "id": "a95f4ca4",
   "metadata": {},
   "outputs": [
    {
     "data": {
      "text/plain": [
       "array([ 5,  4,  3,  4,  5,  6,  7,  8,  9, 10])"
      ]
     },
     "execution_count": 76,
     "metadata": {},
     "output_type": "execute_result"
    }
   ],
   "source": [
    "np.where(tabA>=tabB, tabA, tabB)"
   ]
  },
  {
   "cell_type": "code",
   "execution_count": 77,
   "id": "3e7b413b",
   "metadata": {},
   "outputs": [
    {
     "data": {
      "text/plain": [
       "array([5, 4, 0, 0, 0, 1, 1, 0, 1, 0])"
      ]
     },
     "execution_count": 77,
     "metadata": {},
     "output_type": "execute_result"
    }
   ],
   "source": [
    "np.where(tabA>=tabB, tabLog, tabB) # skąd taki wynik?"
   ]
  },
  {
   "cell_type": "markdown",
   "id": "7b0c9d1a",
   "metadata": {},
   "source": [
    "Możliwe jest łączenie wartości skalarnych i tablic"
   ]
  },
  {
   "cell_type": "code",
   "execution_count": 78,
   "id": "84c3acc2",
   "metadata": {},
   "outputs": [
    {
     "data": {
      "text/plain": [
       "array([  5,   4, 100, 100, 100, 100, 100, 100, 100, 100])"
      ]
     },
     "execution_count": 78,
     "metadata": {},
     "output_type": "execute_result"
    }
   ],
   "source": [
    "np.where(tabA>=tabB, 100, tabB)"
   ]
  },
  {
   "cell_type": "markdown",
   "id": "bb835446",
   "metadata": {},
   "source": [
    "## Metody matematyczne i statystyczne tablic"
   ]
  },
  {
   "cell_type": "markdown",
   "id": "a2a9bc94",
   "metadata": {},
   "source": [
    "Obiekty tablicowe NumPy posiadają podstawowe metody matematyczne i statystyczne, np. suma, średnia czy odchylenie standardowe"
   ]
  },
  {
   "cell_type": "code",
   "execution_count": 79,
   "id": "010b295d",
   "metadata": {},
   "outputs": [
    {
     "data": {
      "text/plain": [
       "array([0, 1, 2, 3, 4, 5, 6, 7, 8, 9])"
      ]
     },
     "execution_count": 79,
     "metadata": {},
     "output_type": "execute_result"
    }
   ],
   "source": [
    "tablica = np.arange(10)\n",
    "tablica"
   ]
  },
  {
   "cell_type": "code",
   "execution_count": 80,
   "id": "3c7c5542",
   "metadata": {},
   "outputs": [
    {
     "data": {
      "text/plain": [
       "4.5"
      ]
     },
     "execution_count": 80,
     "metadata": {},
     "output_type": "execute_result"
    }
   ],
   "source": [
    "tablica.mean()"
   ]
  },
  {
   "cell_type": "code",
   "execution_count": 81,
   "id": "d367fbe9",
   "metadata": {},
   "outputs": [
    {
     "data": {
      "text/plain": [
       "45"
      ]
     },
     "execution_count": 81,
     "metadata": {},
     "output_type": "execute_result"
    }
   ],
   "source": [
    "tablica.sum()"
   ]
  },
  {
   "cell_type": "code",
   "execution_count": 82,
   "id": "f6484339",
   "metadata": {},
   "outputs": [
    {
     "data": {
      "text/plain": [
       "2.8722813232690143"
      ]
     },
     "execution_count": 82,
     "metadata": {},
     "output_type": "execute_result"
    }
   ],
   "source": [
    "tablica.std()"
   ]
  },
  {
   "cell_type": "markdown",
   "id": "3e2cf264",
   "metadata": {},
   "source": [
    "Dla tablic wielowymiarowych możliwe jest podanie osi"
   ]
  },
  {
   "cell_type": "code",
   "execution_count": 83,
   "id": "67d8db67",
   "metadata": {},
   "outputs": [
    {
     "data": {
      "text/plain": [
       "array([[ 0,  1,  2,  3,  4],\n",
       "       [ 5,  6,  7,  8,  9],\n",
       "       [10, 11, 12, 13, 14],\n",
       "       [15, 16, 17, 18, 19]])"
      ]
     },
     "execution_count": 83,
     "metadata": {},
     "output_type": "execute_result"
    }
   ],
   "source": [
    "tablica = np.arange(4*5).reshape((4,5))\n",
    "tablica"
   ]
  },
  {
   "cell_type": "code",
   "execution_count": 84,
   "id": "5ea79aa8",
   "metadata": {},
   "outputs": [
    {
     "data": {
      "text/plain": [
       "array([30, 34, 38, 42, 46])"
      ]
     },
     "execution_count": 84,
     "metadata": {},
     "output_type": "execute_result"
    }
   ],
   "source": [
    "tablica.sum(axis=0)"
   ]
  },
  {
   "cell_type": "code",
   "execution_count": 85,
   "id": "2a961e4b",
   "metadata": {},
   "outputs": [
    {
     "data": {
      "text/plain": [
       "array([10, 35, 60, 85])"
      ]
     },
     "execution_count": 85,
     "metadata": {},
     "output_type": "execute_result"
    }
   ],
   "source": [
    "tablica.sum(axis=1)"
   ]
  },
  {
   "cell_type": "markdown",
   "id": "c3c46ade",
   "metadata": {},
   "source": [
    "**Zadanie 5**. Przeczytaj w dokumentacji zastosowanie następujących metod a następnie przetestuj ich działanie na dowolnej tablicy dwuwymiarowej:\n",
    "1. `sum`\n",
    "2. `mean`\n",
    "3. `std`\n",
    "4. `var`\n",
    "5. `min` \n",
    "6. `max`\n",
    "7. `argmin`\n",
    "8. `argmax`\n",
    "9. `cumsum`\n",
    "10. `cumprod`"
   ]
  },
  {
   "cell_type": "markdown",
   "id": "6e97e6ed",
   "metadata": {},
   "source": [
    "Pełna lista funkcji matematycznych: https://numpy.org/doc/stable/reference/routines.math.html\n",
    "Pełna lista funkcji statystycznych: https://numpy.org/doc/stable/reference/routines.statistics.html"
   ]
  },
  {
   "cell_type": "markdown",
   "id": "7c202671",
   "metadata": {},
   "source": [
    "## Metody dla tablic wartości logicznych"
   ]
  },
  {
   "cell_type": "markdown",
   "id": "f2c28694",
   "metadata": {},
   "source": [
    "Niektóre metody wykonane dla tablic logicznych konwertują `True` do wartości 1, a `False` do wartości 0"
   ]
  },
  {
   "cell_type": "code",
   "execution_count": 86,
   "id": "90e12800",
   "metadata": {},
   "outputs": [
    {
     "data": {
      "text/plain": [
       "array([ True,  True, False, False, False,  True,  True, False,  True,\n",
       "       False])"
      ]
     },
     "execution_count": 86,
     "metadata": {},
     "output_type": "execute_result"
    }
   ],
   "source": [
    "tabLog = np.array([True, True, False, False, False, True, True, False, True, False])\n",
    "tabLog"
   ]
  },
  {
   "cell_type": "code",
   "execution_count": 87,
   "id": "0a7fe72e",
   "metadata": {},
   "outputs": [
    {
     "data": {
      "text/plain": [
       "5"
      ]
     },
     "execution_count": 87,
     "metadata": {},
     "output_type": "execute_result"
    }
   ],
   "source": [
    "tabLog.sum()"
   ]
  },
  {
   "cell_type": "markdown",
   "id": "8b93c3e9",
   "metadata": {},
   "source": [
    "Metody `all` oraz `any` pozwalają stwierdzić, czy wszystkie bądź jakiekolwiek wartości tablicy zawierają `True`"
   ]
  },
  {
   "cell_type": "code",
   "execution_count": 88,
   "id": "446959da",
   "metadata": {},
   "outputs": [
    {
     "data": {
      "text/plain": [
       "True"
      ]
     },
     "execution_count": 88,
     "metadata": {},
     "output_type": "execute_result"
    }
   ],
   "source": [
    "tabLog.any()"
   ]
  },
  {
   "cell_type": "code",
   "execution_count": 89,
   "id": "ca776e3f",
   "metadata": {},
   "outputs": [
    {
     "data": {
      "text/plain": [
       "False"
      ]
     },
     "execution_count": 89,
     "metadata": {},
     "output_type": "execute_result"
    }
   ],
   "source": [
    "tabLog.all()"
   ]
  },
  {
   "cell_type": "code",
   "execution_count": 90,
   "id": "a808ec04",
   "metadata": {},
   "outputs": [
    {
     "data": {
      "text/plain": [
       "array([0, 1, 2, 3, 4, 5])"
      ]
     },
     "execution_count": 90,
     "metadata": {},
     "output_type": "execute_result"
    }
   ],
   "source": [
    "tabA = np.arange(6)\n",
    "tabA"
   ]
  },
  {
   "cell_type": "code",
   "execution_count": 91,
   "id": "b254c19c",
   "metadata": {},
   "outputs": [
    {
     "data": {
      "text/plain": [
       "array([ 6,  7,  8,  9, 10, 11])"
      ]
     },
     "execution_count": 91,
     "metadata": {},
     "output_type": "execute_result"
    }
   ],
   "source": [
    "tabB = np.arange(6,12)\n",
    "tabB"
   ]
  },
  {
   "cell_type": "code",
   "execution_count": 92,
   "id": "8600288c",
   "metadata": {},
   "outputs": [
    {
     "data": {
      "text/plain": [
       "array([ True,  True,  True,  True,  True,  True])"
      ]
     },
     "execution_count": 92,
     "metadata": {},
     "output_type": "execute_result"
    }
   ],
   "source": [
    "tabA < tabB"
   ]
  },
  {
   "cell_type": "code",
   "execution_count": 93,
   "id": "31a611ad",
   "metadata": {},
   "outputs": [
    {
     "data": {
      "text/plain": [
       "True"
      ]
     },
     "execution_count": 93,
     "metadata": {},
     "output_type": "execute_result"
    }
   ],
   "source": [
    "(tabA < tabB).any()"
   ]
  },
  {
   "cell_type": "code",
   "execution_count": 94,
   "id": "08117c40",
   "metadata": {},
   "outputs": [
    {
     "data": {
      "text/plain": [
       "True"
      ]
     },
     "execution_count": 94,
     "metadata": {},
     "output_type": "execute_result"
    }
   ],
   "source": [
    "(tabA < tabB).all()"
   ]
  },
  {
   "cell_type": "markdown",
   "id": "27a87e24",
   "metadata": {},
   "source": [
    "## Sortowanie"
   ]
  },
  {
   "cell_type": "code",
   "execution_count": 95,
   "id": "7c15d16f",
   "metadata": {},
   "outputs": [
    {
     "data": {
      "text/plain": [
       "array([-0.69669678, -1.05115951,  0.2855009 , -0.03810854, -0.94979084,\n",
       "        0.75927336, -0.61551636, -0.43265248, -1.22986786,  0.84833637,\n",
       "        0.50997837,  0.24030569,  1.20901075,  0.38078299, -0.35411545,\n",
       "       -0.03550824,  1.35578123,  0.09097612,  1.88526628, -0.86057147])"
      ]
     },
     "execution_count": 95,
     "metadata": {},
     "output_type": "execute_result"
    }
   ],
   "source": [
    "tablica = np.random.randn(20)\n",
    "tablica"
   ]
  },
  {
   "cell_type": "code",
   "execution_count": 96,
   "id": "5d5698df",
   "metadata": {},
   "outputs": [
    {
     "data": {
      "text/plain": [
       "array([-1.22986786, -1.05115951, -0.94979084, -0.86057147, -0.69669678,\n",
       "       -0.61551636, -0.43265248, -0.35411545, -0.03810854, -0.03550824,\n",
       "        0.09097612,  0.24030569,  0.2855009 ,  0.38078299,  0.50997837,\n",
       "        0.75927336,  0.84833637,  1.20901075,  1.35578123,  1.88526628])"
      ]
     },
     "execution_count": 96,
     "metadata": {},
     "output_type": "execute_result"
    }
   ],
   "source": [
    "tablica.sort()\n",
    "tablica"
   ]
  },
  {
   "cell_type": "markdown",
   "id": "13b50e29",
   "metadata": {},
   "source": [
    "## Operacje na zbiorach"
   ]
  },
  {
   "cell_type": "markdown",
   "id": "7f4adcba",
   "metadata": {},
   "source": [
    "Do tablic można stosować operacje dotyczące zbiorów"
   ]
  },
  {
   "cell_type": "code",
   "execution_count": 97,
   "id": "6ee10512",
   "metadata": {},
   "outputs": [
    {
     "data": {
      "text/plain": [
       "array([1, 2, 2, 3, 4, 4, 4, 5])"
      ]
     },
     "execution_count": 97,
     "metadata": {},
     "output_type": "execute_result"
    }
   ],
   "source": [
    "tablica = np.array([1,2,2,3,4,4,4,5])\n",
    "tablica"
   ]
  },
  {
   "cell_type": "markdown",
   "id": "51e1560a",
   "metadata": {},
   "source": [
    "Wartości unikatowe"
   ]
  },
  {
   "cell_type": "code",
   "execution_count": 98,
   "id": "4942401b",
   "metadata": {},
   "outputs": [
    {
     "data": {
      "text/plain": [
       "array([1, 2, 3, 4, 5])"
      ]
     },
     "execution_count": 98,
     "metadata": {},
     "output_type": "execute_result"
    }
   ],
   "source": [
    "np.unique(tablica)"
   ]
  },
  {
   "cell_type": "markdown",
   "id": "e7ef9080",
   "metadata": {},
   "source": [
    "Które wartości z podanej tablicy zawiera tablica wejściowa?"
   ]
  },
  {
   "cell_type": "code",
   "execution_count": 99,
   "id": "a630304b",
   "metadata": {},
   "outputs": [
    {
     "data": {
      "text/plain": [
       "array([-1,  0,  1,  2,  3,  4,  5,  6,  7])"
      ]
     },
     "execution_count": 99,
     "metadata": {},
     "output_type": "execute_result"
    }
   ],
   "source": [
    "wartosci = np.arange(-1,8)\n",
    "wartosci"
   ]
  },
  {
   "cell_type": "code",
   "execution_count": 100,
   "id": "1e37952f",
   "metadata": {},
   "outputs": [
    {
     "data": {
      "text/plain": [
       "array([False, False,  True,  True,  True,  True,  True, False, False])"
      ]
     },
     "execution_count": 100,
     "metadata": {},
     "output_type": "execute_result"
    }
   ],
   "source": [
    "np.in1d(wartosci,tablica)"
   ]
  },
  {
   "cell_type": "markdown",
   "id": "52c64457",
   "metadata": {},
   "source": [
    "Wszystkie operacje na zbiorach: https://numpy.org/doc/stable/reference/routines.set.html"
   ]
  },
  {
   "cell_type": "markdown",
   "id": "b9d133cc",
   "metadata": {},
   "source": [
    "**Zadanie 6**. Spróbuj wykonać wszystkie zadania z listy `RZadania.pdf` z poprzedniego semestru. Które i w jaki sposób da się wykonać za pomocą Pythona/NumPy?"
   ]
  },
  {
   "cell_type": "markdown",
   "id": "d0b64f0b",
   "metadata": {},
   "source": [
    "**Zadanie 7**. Posortuj poniższą tablicę w wierszach."
   ]
  },
  {
   "cell_type": "code",
   "execution_count": 101,
   "id": "96c4388a",
   "metadata": {},
   "outputs": [],
   "source": [
    "T = np.array([[5,2,1,6],[4,8,3,1],[2,4,7,8]])"
   ]
  },
  {
   "cell_type": "markdown",
   "id": "5ad00d5e",
   "metadata": {},
   "source": [
    "**Zadanie 8**. Posortuj powyższą tablicę w kolumnach."
   ]
  },
  {
   "cell_type": "markdown",
   "id": "cbbf5545",
   "metadata": {},
   "source": [
    "**Zadanie 9**. Za pomocą `np.argsort()` podaj numery elementów oryginalnej tablicy w każdym wierszu, gdyby była ona posortowana w wierszach."
   ]
  },
  {
   "cell_type": "markdown",
   "id": "91e40628",
   "metadata": {},
   "source": [
    "**Zadanie 10**. Poniższą tablicę posortuj zgodnie z porządkiem leksykograficznym na podstawie kolumny drugiej, w następnej kolejności na podstawie kolumny czwartej, a ostatecznie szóstej."
   ]
  },
  {
   "cell_type": "code",
   "execution_count": 102,
   "id": "afa21f6d",
   "metadata": {},
   "outputs": [],
   "source": [
    "T = np.array([[5,2,5,2,7,4],[2,2,1,5,4,3],[1,3,4,1,4,5],[1,3,1,1,2,2]])"
   ]
  },
  {
   "cell_type": "markdown",
   "id": "191b59a9",
   "metadata": {},
   "source": [
    "**Zadanie 11**. Za pomocą `np.hsplit()` podziel powyższą tablicę na 3 równe części."
   ]
  },
  {
   "cell_type": "code",
   "execution_count": 103,
   "id": "c4606ee4",
   "metadata": {},
   "outputs": [
    {
     "data": {
      "text/plain": [
       "array([[5, 2, 5, 2, 7, 4],\n",
       "       [2, 2, 1, 5, 4, 3],\n",
       "       [1, 3, 4, 1, 4, 5],\n",
       "       [1, 3, 1, 1, 2, 2]])"
      ]
     },
     "execution_count": 103,
     "metadata": {},
     "output_type": "execute_result"
    }
   ],
   "source": [
    "T"
   ]
  },
  {
   "cell_type": "markdown",
   "id": "860a609e",
   "metadata": {},
   "source": [
    "**Zadanie 12**. Za pomocą `np.hsplit()` podziel powyższą tablicę na 4 części tak, aby w pierwszej , trzeciej i czwartej części znalazła się tylko jedna kolumna, a w drugiej części 3 kolumny."
   ]
  },
  {
   "cell_type": "markdown",
   "id": "7f69323a",
   "metadata": {},
   "source": [
    "**Zadanie 13**. Za pomocą `np.vsplit()` podziel powyższą tablicę na 3 dowolne części."
   ]
  },
  {
   "cell_type": "markdown",
   "id": "756a20c3",
   "metadata": {},
   "source": [
    "**Zadanie 14**. W trzech powyższych zadaniach, po podziale scal z powrotem części w jedną tablicę za pomocą `np.vstack()` lub `np.hstack()`."
   ]
  },
  {
   "cell_type": "markdown",
   "id": "1d7a2fff",
   "metadata": {},
   "source": [
    "**Zadanie 15**. Co robi z wektorem *w* poniższa operacja?"
   ]
  },
  {
   "cell_type": "code",
   "execution_count": 104,
   "id": "1168733a",
   "metadata": {},
   "outputs": [],
   "source": [
    "w = np.arange(1,11)\n",
    "w = w[:, np.newaxis]"
   ]
  },
  {
   "cell_type": "markdown",
   "id": "b31c2132",
   "metadata": {},
   "source": [
    "**Zadanie 16**. Co stanie się, jeżeli w powyszej opercji zamienimy pozycje indeksowania?"
   ]
  },
  {
   "cell_type": "markdown",
   "id": "15e06c7a",
   "metadata": {},
   "source": [
    "**Zadanie 17**. Korzystając z powyższego wektora i operatora `*`, wykorzystaj rozgłaszanie do wyliczenia tabliczki mnożenia do 100."
   ]
  },
  {
   "cell_type": "markdown",
   "id": "562ed5a6",
   "metadata": {},
   "source": [
    "**Zadanie 18**. Wykorzystaj funkcję `np.nonzero()` aby uzyskać indeksy wierszy i kolumn wszystkich elementów z tablicy z zadania 10, która są jednocześnie nie mniejsze od 2 i mniejsze od 7. Wypisz wszystkie takie pary (nr_wiersza, nr_kolumny) na ekranie (podpowiedź: komenda `zip`)."
   ]
  },
  {
   "cell_type": "code",
   "execution_count": 105,
   "id": "5582663e",
   "metadata": {},
   "outputs": [
    {
     "data": {
      "text/plain": [
       "(array([0, 0, 0, 0, 0, 1, 1, 1, 1, 1, 2, 2, 2, 2, 3, 3, 3], dtype=int64),\n",
       " array([0, 1, 2, 3, 5, 0, 1, 3, 4, 5, 1, 2, 4, 5, 1, 4, 5], dtype=int64))"
      ]
     },
     "execution_count": 105,
     "metadata": {},
     "output_type": "execute_result"
    }
   ],
   "source": [
    "np.nonzero((T >= 2) & (T < 7))"
   ]
  },
  {
   "cell_type": "markdown",
   "id": "2302def0",
   "metadata": {},
   "source": [
    "**Zadanie 19**. Korzystając z `np.unique()`, w poniższym wektorze znajdź wszystkie elementy unikatowe, ich indeksy oraz liczbę powtórzeń każdego z nich."
   ]
  },
  {
   "cell_type": "code",
   "execution_count": 106,
   "id": "3524a05f",
   "metadata": {},
   "outputs": [],
   "source": [
    "w = np.array([1,2,2,2,3,1,3,1,4,4,5,6,5,7,8,8])"
   ]
  },
  {
   "cell_type": "markdown",
   "id": "e2f192d2",
   "metadata": {},
   "source": [
    "**Zadanie 20**. Korzystając z `np.unique()`, w poniższej tablicy znajdź wszystkie unikatowe wiersze, ich indeksy oraz liczbę powtórzeń każdego z nich."
   ]
  },
  {
   "cell_type": "code",
   "execution_count": 107,
   "id": "90b1081f",
   "metadata": {},
   "outputs": [],
   "source": [
    "T = np.array([[1,2],[2,1],[2,2],[2,2],[2,3],[3,2],[1,2],[1,4],[2,1]])"
   ]
  },
  {
   "cell_type": "markdown",
   "id": "72acc3f2",
   "metadata": {},
   "source": [
    "**Zadanie 21**. Podczas ostatniego wykładu podano cztery sposoby liczenia odległości między klastrami. Wczytaj klastry z plików `klaster A.csv`, `klaster B.csv` i `klaster C.csv` za pomocą `np.loadtxt()`. Następnie wylicz odległości między każdą parą klastrów na każdy z czterech sposobów korzystając z możliwości NumPy. "
   ]
  },
  {
   "cell_type": "markdown",
   "id": "ef2bc309",
   "metadata": {},
   "source": [
    "**Zadanie 22**. Dla każdego sposobu pomiaru odległości pomiędzy klastrami wylicz miarę $wc(C)/bc(C)$."
   ]
  }
 ],
 "metadata": {
  "kernelspec": {
   "display_name": "Python 3 (ipykernel)",
   "language": "python",
   "name": "python3"
  },
  "language_info": {
   "codemirror_mode": {
    "name": "ipython",
    "version": 3
   },
   "file_extension": ".py",
   "mimetype": "text/x-python",
   "name": "python",
   "nbconvert_exporter": "python",
   "pygments_lexer": "ipython3",
   "version": "3.10.5"
  }
 },
 "nbformat": 4,
 "nbformat_minor": 5
}
