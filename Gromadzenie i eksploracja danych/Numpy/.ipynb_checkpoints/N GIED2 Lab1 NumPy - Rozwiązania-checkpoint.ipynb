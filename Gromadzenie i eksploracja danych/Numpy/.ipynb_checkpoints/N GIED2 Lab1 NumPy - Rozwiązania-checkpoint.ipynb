{
 "cells": [
  {
   "cell_type": "code",
   "execution_count": 3,
   "id": "47953090",
   "metadata": {},
   "outputs": [],
   "source": [
    "import numpy as np"
   ]
  },
  {
   "cell_type": "code",
   "execution_count": 2,
   "id": "8ddaf812",
   "metadata": {},
   "outputs": [
    {
     "data": {
      "text/plain": [
       "array([ 1,  2,  3,  4,  5,  6,  7,  8,  9, 10])"
      ]
     },
     "execution_count": 2,
     "metadata": {},
     "output_type": "execute_result"
    }
   ],
   "source": [
    "array_1 = np.asarray([1,2,3,4,5,6,7,8,9,10])\n",
    "array_1"
   ]
  },
  {
   "cell_type": "code",
   "execution_count": 3,
   "id": "8d900c6c",
   "metadata": {},
   "outputs": [
    {
     "data": {
      "text/plain": [
       "array([[ 0,  1,  2,  3],\n",
       "       [ 4,  5,  6,  7],\n",
       "       [ 8,  9, 10, 11]])"
      ]
     },
     "execution_count": 3,
     "metadata": {},
     "output_type": "execute_result"
    }
   ],
   "source": [
    "array_2 = np.arange(12).reshape(3,4)\n",
    "array_2"
   ]
  },
  {
   "cell_type": "code",
   "execution_count": 4,
   "id": "8324de78",
   "metadata": {},
   "outputs": [
    {
     "data": {
      "text/plain": [
       "array([[[ 0,  1,  2,  3],\n",
       "        [ 4,  5,  6,  7],\n",
       "        [ 8,  9, 10, 11]],\n",
       "\n",
       "       [[12, 13, 14, 15],\n",
       "        [16, 17, 18, 19],\n",
       "        [20, 21, 22, 23]],\n",
       "\n",
       "       [[24, 25, 26, 27],\n",
       "        [28, 29, 30, 31],\n",
       "        [32, 33, 34, 35]]])"
      ]
     },
     "execution_count": 4,
     "metadata": {},
     "output_type": "execute_result"
    }
   ],
   "source": [
    "array_3 = np.arange(3*3*4).reshape(3,3,4)\n",
    "array_3"
   ]
  },
  {
   "cell_type": "markdown",
   "id": "6349b212",
   "metadata": {},
   "source": [
    "### Sprawdź do czego służą i przetestuj działanie następujących funkcji tworzących tablice ndarray"
   ]
  },
  {
   "cell_type": "markdown",
   "id": "6d40af33",
   "metadata": {},
   "source": [
    "**1.1 asarray** Konwertuje dane wejściowe (lista, lista krotek, krotka, krotka krotek, krotka list) na tablice ndarray. Możliwa jest zmiana typu danych oraz porzadek danych."
   ]
  },
  {
   "cell_type": "code",
   "execution_count": 3,
   "id": "7bb1c126",
   "metadata": {},
   "outputs": [
    {
     "data": {
      "text/plain": [
       "array([ 1,  2,  3,  4,  5,  6,  7,  8,  9, 10])"
      ]
     },
     "execution_count": 3,
     "metadata": {},
     "output_type": "execute_result"
    }
   ],
   "source": [
    "list = [1,2,3,4,5,6,7,8,9,10]\n",
    "array_of_list = np.asarray(list)\n",
    "array_of_list"
   ]
  },
  {
   "cell_type": "code",
   "execution_count": 4,
   "id": "4f08afb0",
   "metadata": {},
   "outputs": [
    {
     "data": {
      "text/plain": [
       "array([[1, 2, 3],\n",
       "       [4, 5, 6],\n",
       "       [7, 8, 9]])"
      ]
     },
     "execution_count": 4,
     "metadata": {},
     "output_type": "execute_result"
    }
   ],
   "source": [
    "list_of_tuples = [(1.0,2.2,3.3),(4.6,5.5,6.4),(7.8,8.8,9.9)]\n",
    "array_of_list_of_tuples = np.array(list_of_tuples, dtype=int)\n",
    "array_of_list_of_tuples"
   ]
  },
  {
   "cell_type": "markdown",
   "id": "b28097e9",
   "metadata": {},
   "source": [
    "**1.2. ones_like** Zwraca tablicę jedynek o takim samym kształcie i typie jak tablica wejściowa"
   ]
  },
  {
   "cell_type": "code",
   "execution_count": 117,
   "id": "7f91e813",
   "metadata": {},
   "outputs": [
    {
     "data": {
      "text/plain": [
       "array([[1, 1, 1, 1],\n",
       "       [1, 1, 1, 1],\n",
       "       [1, 1, 1, 1]])"
      ]
     },
     "execution_count": 117,
     "metadata": {},
     "output_type": "execute_result"
    }
   ],
   "source": [
    "array_full_of_ones = np.ones_like(array_2)\n",
    "array_full_of_ones"
   ]
  },
  {
   "cell_type": "markdown",
   "id": "b16f5db3",
   "metadata": {},
   "source": [
    "**1.3. zeros_like** Zwraca tablicę zer o takim samym kształce i typie jak tablica wejściowa"
   ]
  },
  {
   "cell_type": "code",
   "execution_count": 118,
   "id": "f7732ac1",
   "metadata": {},
   "outputs": [
    {
     "data": {
      "text/plain": [
       "array([[0, 0, 0, 0],\n",
       "       [0, 0, 0, 0],\n",
       "       [0, 0, 0, 0]])"
      ]
     },
     "execution_count": 118,
     "metadata": {},
     "output_type": "execute_result"
    }
   ],
   "source": [
    "array_full_of_ones = np.zeros_like(array_2)\n",
    "array_full_of_ones"
   ]
  },
  {
   "cell_type": "markdown",
   "id": "0248df3d",
   "metadata": {},
   "source": [
    "**1.4. full** Zwraca nową tablicę o podanym kształcie (int lub sekwencja intów) i typie. Nowa tablica jest wypełniona wartościami"
   ]
  },
  {
   "cell_type": "code",
   "execution_count": 11,
   "id": "0bf4e882",
   "metadata": {},
   "outputs": [
    {
     "data": {
      "text/plain": [
       "array([['a', 'b', 'c', 'd', 'e', 'f', 'g'],\n",
       "       ['a', 'b', 'c', 'd', 'e', 'f', 'g'],\n",
       "       ['a', 'b', 'c', 'd', 'e', 'f', 'g'],\n",
       "       ['a', 'b', 'c', 'd', 'e', 'f', 'g'],\n",
       "       ['a', 'b', 'c', 'd', 'e', 'f', 'g'],\n",
       "       ['a', 'b', 'c', 'd', 'e', 'f', 'g'],\n",
       "       ['a', 'b', 'c', 'd', 'e', 'f', 'g'],\n",
       "       ['a', 'b', 'c', 'd', 'e', 'f', 'g'],\n",
       "       ['a', 'b', 'c', 'd', 'e', 'f', 'g']], dtype='<U1')"
      ]
     },
     "execution_count": 11,
     "metadata": {},
     "output_type": "execute_result"
    }
   ],
   "source": [
    "array_full_of_somevalues = np.full((9,7), ['a','b','c','d','e','f', 'g'])\n",
    "array_full_of_somevalues"
   ]
  },
  {
   "cell_type": "code",
   "execution_count": 12,
   "id": "f636d996",
   "metadata": {},
   "outputs": [
    {
     "data": {
      "text/plain": [
       "array(['a', 'b', 'c', 'd', 'e', 'f', 'g'], dtype='<U1')"
      ]
     },
     "execution_count": 12,
     "metadata": {},
     "output_type": "execute_result"
    }
   ],
   "source": [
    "array_full_of_somevalues2 = np.full(7, ['a', 'b', 'c','d', 'e', 'f', 'g'])\n",
    "array_full_of_somevalues2"
   ]
  },
  {
   "cell_type": "markdown",
   "id": "1c2e95b5",
   "metadata": {},
   "source": [
    "**1.5. full_like** Tak samo jak funkcja wyżej, ale przyjmuje inną tablicę i generuje tablice o takim samym kształcie i typie danych."
   ]
  },
  {
   "cell_type": "code",
   "execution_count": 121,
   "id": "9a6c28c1",
   "metadata": {},
   "outputs": [
    {
     "data": {
      "text/plain": [
       "array([[[10, 11, 12, 13],\n",
       "        [10, 11, 12, 13],\n",
       "        [10, 11, 12, 13]]])"
      ]
     },
     "execution_count": 121,
     "metadata": {},
     "output_type": "execute_result"
    }
   ],
   "source": [
    "array = np.full_like([array_2], [10,11,12,13])\n",
    "array"
   ]
  },
  {
   "cell_type": "markdown",
   "id": "4a723fa3",
   "metadata": {},
   "source": [
    "**1.6. eye** Zwraca tablicę dwuwymiarową z jedynkami po przekątnej i zerami w reszcie. Przyjmując jako wartość kształt tablicy."
   ]
  },
  {
   "cell_type": "code",
   "execution_count": 16,
   "id": "cddfa841",
   "metadata": {},
   "outputs": [
    {
     "data": {
      "text/plain": [
       "array([[1., 0., 0., 0., 0., 0., 0.],\n",
       "       [0., 1., 0., 0., 0., 0., 0.],\n",
       "       [0., 0., 1., 0., 0., 0., 0.],\n",
       "       [0., 0., 0., 1., 0., 0., 0.],\n",
       "       [0., 0., 0., 0., 1., 0., 0.],\n",
       "       [0., 0., 0., 0., 0., 1., 0.],\n",
       "       [0., 0., 0., 0., 0., 0., 1.]])"
      ]
     },
     "execution_count": 16,
     "metadata": {},
     "output_type": "execute_result"
    }
   ],
   "source": [
    "np.eye(7)"
   ]
  },
  {
   "cell_type": "code",
   "execution_count": 66,
   "id": "1647e65e",
   "metadata": {},
   "outputs": [
    {
     "data": {
      "text/plain": [
       "array([[0., 0., 0., 1., 0., 0., 0.],\n",
       "       [0., 0., 0., 0., 1., 0., 0.],\n",
       "       [0., 0., 0., 0., 0., 1., 0.],\n",
       "       [0., 0., 0., 0., 0., 0., 1.],\n",
       "       [0., 0., 0., 0., 0., 0., 0.],\n",
       "       [0., 0., 0., 0., 0., 0., 0.],\n",
       "       [0., 0., 0., 0., 0., 0., 0.]])"
      ]
     },
     "execution_count": 66,
     "metadata": {},
     "output_type": "execute_result"
    }
   ],
   "source": [
    "np.eye(7, k=3) #przesunięcie"
   ]
  },
  {
   "cell_type": "markdown",
   "id": "8703db88",
   "metadata": {},
   "source": [
    "**1.7. identity** Zwraca kwadratową tablicę z jedynkami na głównej przekątnej, za wartość przyjmując kształt"
   ]
  },
  {
   "cell_type": "code",
   "execution_count": 19,
   "id": "a043b133",
   "metadata": {},
   "outputs": [
    {
     "data": {
      "text/plain": [
       "array([[1., 0., 0.],\n",
       "       [0., 1., 0.],\n",
       "       [0., 0., 1.]])"
      ]
     },
     "execution_count": 19,
     "metadata": {},
     "output_type": "execute_result"
    }
   ],
   "source": [
    "np.identity(3)"
   ]
  },
  {
   "cell_type": "markdown",
   "id": "802b3eba",
   "metadata": {},
   "source": [
    "### Sprawdź, w jaki sposób są konwertowane przez funkcję astype niecałkowite wartości"
   ]
  },
  {
   "cell_type": "code",
   "execution_count": 21,
   "id": "b35511d0",
   "metadata": {},
   "outputs": [
    {
     "data": {
      "text/plain": [
       "dtype('int32')"
      ]
     },
     "execution_count": 21,
     "metadata": {},
     "output_type": "execute_result"
    }
   ],
   "source": [
    "array = np.array([1.8,2.8,3.8,4.8,5.8])\n",
    "array.dtype"
   ]
  },
  {
   "cell_type": "code",
   "execution_count": 27,
   "id": "e20ee808",
   "metadata": {},
   "outputs": [
    {
     "data": {
      "text/plain": [
       "array([1, 2, 3, 4, 5])"
      ]
     },
     "execution_count": 27,
     "metadata": {},
     "output_type": "execute_result"
    }
   ],
   "source": [
    "int_array = array.astype(int)\n",
    "int_array"
   ]
  },
  {
   "cell_type": "markdown",
   "id": "ea42b080",
   "metadata": {},
   "source": [
    "Metoda astype umożliwia konwertowanie jednego typu danych na drugi. Dla rzutowania wartości zmiennoprzecinkowych (float) na wartości stałoprzecinkowe (int) wartość dziesiętna jest pomijana. "
   ]
  },
  {
   "cell_type": "markdown",
   "id": "71e8eabd",
   "metadata": {},
   "source": [
    "### Przekonwertuj tablicę wartości zmiennoprzecinkowych na tablicę stringów. Następnie przekonwertuj tablicę stringów z powrotem na wartości zmiennoprzecinkowe."
   ]
  },
  {
   "cell_type": "code",
   "execution_count": 64,
   "id": "e01fa234",
   "metadata": {},
   "outputs": [
    {
     "data": {
      "text/plain": [
       "array(['1.2345', '1.2345', '1.2345', '1.2345', '1.2345'], dtype='<U32')"
      ]
     },
     "execution_count": 64,
     "metadata": {},
     "output_type": "execute_result"
    }
   ],
   "source": [
    "array_float = np.array ([1.2345, 1.2345, 1.2345, 1.2345, 1.2345])\n",
    "array_string = array_float.astype(str)\n",
    "array_string"
   ]
  },
  {
   "cell_type": "markdown",
   "id": "89d06e75",
   "metadata": {},
   "source": [
    "Metoda astype umożliwia konwersję łancucha znaków przedstawiającego liczby na wartości numeryczne "
   ]
  },
  {
   "cell_type": "code",
   "execution_count": 67,
   "id": "f9f488f6",
   "metadata": {},
   "outputs": [
    {
     "data": {
      "text/plain": [
       "array([1.2345, 1.2345, 1.2345, 1.2345, 1.2345])"
      ]
     },
     "execution_count": 67,
     "metadata": {},
     "output_type": "execute_result"
    }
   ],
   "source": [
    "array_float_again = array_string.astype(float)\n",
    "array_float_again"
   ]
  },
  {
   "cell_type": "markdown",
   "id": "2ac88d85",
   "metadata": {},
   "source": [
    "**Dodatkowe info**: Dane łancuchowe w NumPy zawierają określony rozmiar, a więc dane wejściowe mogą zostać ucięte bez żadnego ostrzeżenia. / (W.McKinney, \"Python w analizie danych\", str. 100)"
   ]
  },
  {
   "cell_type": "markdown",
   "id": "a1affcf4",
   "metadata": {},
   "source": [
    "### Zaprezentuj przykład rozgłaszania na dowolnej dwuargumentowej operacji gdzie pierwszym argumentem jest tablica trójwymiarowa, a drugim argumentem tablica dwuwymiarowa."
   ]
  },
  {
   "cell_type": "code",
   "execution_count": 147,
   "id": "d62c966b",
   "metadata": {},
   "outputs": [
    {
     "data": {
      "text/plain": [
       "array([[[  0,   1,   4,   9],\n",
       "        [ 16,  25,  36,  49],\n",
       "        [ 64,  81, 100, 121]],\n",
       "\n",
       "       [[  0,  13,  28,  45],\n",
       "        [ 64,  85, 108, 133],\n",
       "        [160, 189, 220, 253]],\n",
       "\n",
       "       [[  0,  25,  52,  81],\n",
       "        [112, 145, 180, 217],\n",
       "        [256, 297, 340, 385]]])"
      ]
     },
     "execution_count": 147,
     "metadata": {},
     "output_type": "execute_result"
    }
   ],
   "source": [
    "array_2*array_3"
   ]
  },
  {
   "cell_type": "markdown",
   "id": "af568da7",
   "metadata": {},
   "source": [
    "Rozgłaszanie w przypadku iloczynu dwóch tablic (o różnych wymiarach) - powstaje tablica o wymiarze tablicy większej. Natomiast wartości w niej są iloczynem  tablicy pierwszej przez drugą.Tam gdzie 'brakuje' odpowiednika w drugiej tablicy, wartości są jakby rozciągane"
   ]
  },
  {
   "cell_type": "code",
   "execution_count": 146,
   "id": "b4960e6f",
   "metadata": {},
   "outputs": [
    {
     "data": {
      "text/plain": [
       "array([[[  0,   0,   0,   0],\n",
       "        [  0,   0,   0,   0],\n",
       "        [  0,   0,   0,   0]],\n",
       "\n",
       "       [[-12, -12, -12, -12],\n",
       "        [-12, -12, -12, -12],\n",
       "        [-12, -12, -12, -12]],\n",
       "\n",
       "       [[-24, -24, -24, -24],\n",
       "        [-24, -24, -24, -24],\n",
       "        [-24, -24, -24, -24]]])"
      ]
     },
     "execution_count": 146,
     "metadata": {},
     "output_type": "execute_result"
    }
   ],
   "source": [
    "array_2 - array_3"
   ]
  },
  {
   "cell_type": "code",
   "execution_count": 139,
   "id": "0cd8089b",
   "metadata": {},
   "outputs": [
    {
     "ename": "ValueError",
     "evalue": "operands could not be broadcast together with shapes (3,4) (10,) ",
     "output_type": "error",
     "traceback": [
      "\u001b[1;31m---------------------------------------------------------------------------\u001b[0m",
      "\u001b[1;31mValueError\u001b[0m                                Traceback (most recent call last)",
      "Input \u001b[1;32mIn [139]\u001b[0m, in \u001b[0;36m<cell line: 1>\u001b[1;34m()\u001b[0m\n\u001b[1;32m----> 1\u001b[0m \u001b[43marray_2\u001b[49m\u001b[43m \u001b[49m\u001b[38;5;241;43m-\u001b[39;49m\u001b[43m \u001b[49m\u001b[43marray_1\u001b[49m\n",
      "\u001b[1;31mValueError\u001b[0m: operands could not be broadcast together with shapes (3,4) (10,) "
     ]
    }
   ],
   "source": [
    "array_2 - array_1"
   ]
  },
  {
   "cell_type": "markdown",
   "id": "1945e021",
   "metadata": {},
   "source": [
    "Nie ilość wymiarów ma znaczenie dla wykonywania operacji arytmetycznych, ale długość ostatniego wymiaru dla obu tablic musi być taki sam lub wynosić 1."
   ]
  },
  {
   "cell_type": "markdown",
   "id": "f40cf669",
   "metadata": {},
   "source": [
    "### Przeczytaj w dokumentacji zastosowanie następujących metod a następnie przetestuj ich działanie na dowolnej tablicy dwuwymiarowej"
   ]
  },
  {
   "cell_type": "markdown",
   "id": "3dd450b4",
   "metadata": {},
   "source": [
    "**5.1. sum** Suma wszystkich elementów tablicy lub podanego wiersza. Można sumować po różnych osiach lub rozpocząć sumowanie od jakiejś wartości"
   ]
  },
  {
   "cell_type": "code",
   "execution_count": 79,
   "id": "0816c7c2",
   "metadata": {},
   "outputs": [
    {
     "data": {
      "text/plain": [
       "66"
      ]
     },
     "execution_count": 79,
     "metadata": {},
     "output_type": "execute_result"
    }
   ],
   "source": [
    "np.sum(array_2)"
   ]
  },
  {
   "cell_type": "code",
   "execution_count": 89,
   "id": "eb5ecf1e",
   "metadata": {},
   "outputs": [
    {
     "data": {
      "text/plain": [
       "array([12, 15, 18, 21])"
      ]
     },
     "execution_count": 89,
     "metadata": {},
     "output_type": "execute_result"
    }
   ],
   "source": [
    "np.sum(array_2, axis =0) # sumowanie według kolumn"
   ]
  },
  {
   "cell_type": "code",
   "execution_count": 96,
   "id": "1eef4dea",
   "metadata": {},
   "outputs": [
    {
     "data": {
      "text/plain": [
       "array([17, 20, 23, 26])"
      ]
     },
     "execution_count": 96,
     "metadata": {},
     "output_type": "execute_result"
    }
   ],
   "source": [
    "np.sum(array_2, axis = 0, initial =5)"
   ]
  },
  {
   "cell_type": "markdown",
   "id": "c5ea7f34",
   "metadata": {},
   "source": [
    "**5.2. mean** Zwraca średnią elementów listy. Średnia jest brana defaultowo dla osi płaskiej (wierszy)"
   ]
  },
  {
   "cell_type": "code",
   "execution_count": 101,
   "id": "a9ed9513",
   "metadata": {},
   "outputs": [
    {
     "data": {
      "text/plain": [
       "array([1.5, 5.5, 9.5])"
      ]
     },
     "execution_count": 101,
     "metadata": {},
     "output_type": "execute_result"
    }
   ],
   "source": [
    "np.mean(array_2, axis = 1)"
   ]
  },
  {
   "cell_type": "markdown",
   "id": "99e92b61",
   "metadata": {},
   "source": [
    "**5.3. std** Zwraca odchylenie standardowe"
   ]
  },
  {
   "cell_type": "code",
   "execution_count": 107,
   "id": "8083ca30",
   "metadata": {},
   "outputs": [
    {
     "data": {
      "text/plain": [
       "array([1.11803399, 1.11803399, 1.11803399])"
      ]
     },
     "execution_count": 107,
     "metadata": {},
     "output_type": "execute_result"
    }
   ],
   "source": [
    "np.std(array_2, axis = 1)"
   ]
  },
  {
   "cell_type": "markdown",
   "id": "30d64445",
   "metadata": {},
   "source": [
    "**5.4. var** Zwraca wariancję"
   ]
  },
  {
   "cell_type": "code",
   "execution_count": 106,
   "id": "e4776951",
   "metadata": {},
   "outputs": [
    {
     "data": {
      "text/plain": [
       "11.916666666666666"
      ]
     },
     "execution_count": 106,
     "metadata": {},
     "output_type": "execute_result"
    }
   ],
   "source": [
    "np.var(array_2)"
   ]
  },
  {
   "cell_type": "markdown",
   "id": "b5369a88",
   "metadata": {},
   "source": [
    "**5.5. min** Zwraca minimalną wartość z tablicy"
   ]
  },
  {
   "cell_type": "code",
   "execution_count": 109,
   "id": "955552f9",
   "metadata": {},
   "outputs": [
    {
     "data": {
      "text/plain": [
       "0"
      ]
     },
     "execution_count": 109,
     "metadata": {},
     "output_type": "execute_result"
    }
   ],
   "source": [
    "np.min(array_2)"
   ]
  },
  {
   "cell_type": "markdown",
   "id": "a9e7217b",
   "metadata": {},
   "source": [
    "**5.6. max** Zwraca maksymalną wartość z tablicy "
   ]
  },
  {
   "cell_type": "code",
   "execution_count": 110,
   "id": "8f0dd2f9",
   "metadata": {},
   "outputs": [
    {
     "data": {
      "text/plain": [
       "11"
      ]
     },
     "execution_count": 110,
     "metadata": {},
     "output_type": "execute_result"
    }
   ],
   "source": [
    "np.max(array_2)"
   ]
  },
  {
   "cell_type": "markdown",
   "id": "4da8af0a",
   "metadata": {},
   "source": [
    "**5.7. argmin** Indeks elementu o najniższej wartości"
   ]
  },
  {
   "cell_type": "code",
   "execution_count": 111,
   "id": "caf817fc",
   "metadata": {},
   "outputs": [
    {
     "data": {
      "text/plain": [
       "0"
      ]
     },
     "execution_count": 111,
     "metadata": {},
     "output_type": "execute_result"
    }
   ],
   "source": [
    "np.argmin(array_2)"
   ]
  },
  {
   "cell_type": "markdown",
   "id": "ac45399c",
   "metadata": {},
   "source": [
    "**5.8. argmax** indeks elementu o najwyższej wartości"
   ]
  },
  {
   "cell_type": "code",
   "execution_count": 112,
   "id": "07e748a7",
   "metadata": {},
   "outputs": [
    {
     "data": {
      "text/plain": [
       "11"
      ]
     },
     "execution_count": 112,
     "metadata": {},
     "output_type": "execute_result"
    }
   ],
   "source": [
    "np.argmax(array_2)"
   ]
  },
  {
   "cell_type": "markdown",
   "id": "d5a7811c",
   "metadata": {},
   "source": [
    "**5.9. cumsum** Zwraca tablicę jednowymiarową. Skumulowana suma kolejnych elementów zaczynając od zera."
   ]
  },
  {
   "cell_type": "code",
   "execution_count": 113,
   "id": "5b38171a",
   "metadata": {},
   "outputs": [
    {
     "data": {
      "text/plain": [
       "array([ 0,  1,  3,  6, 10, 15, 21, 28, 36, 45, 55, 66])"
      ]
     },
     "execution_count": 113,
     "metadata": {},
     "output_type": "execute_result"
    }
   ],
   "source": [
    "np.cumsum(array_2)"
   ]
  },
  {
   "cell_type": "markdown",
   "id": "dbac960a",
   "metadata": {},
   "source": [
    "**5.10. cumprod** Zwraca tablicę jednowymiarową. Skumulowany iloczyn elementów, zaczynając od 1"
   ]
  },
  {
   "cell_type": "code",
   "execution_count": 116,
   "id": "722b9ff4",
   "metadata": {},
   "outputs": [
    {
     "data": {
      "text/plain": [
       "array([0, 0, 0, 0, 0, 0, 0, 0, 0, 0, 0, 0])"
      ]
     },
     "execution_count": 116,
     "metadata": {},
     "output_type": "execute_result"
    }
   ],
   "source": [
    "np.cumprod(array_2)"
   ]
  },
  {
   "cell_type": "markdown",
   "id": "28762384",
   "metadata": {},
   "source": [
    "### Zadanie z listy Rzadania"
   ]
  },
  {
   "cell_type": "markdown",
   "id": "5c2a9366",
   "metadata": {},
   "source": [
    "**6.1.** Wygeneruj wektor stworzony z wektora [1, 2, 3], aby każdy element powtarzał się 4 razy i \n",
    "taka sekwencja była powtórzona 3-krotni"
   ]
  },
  {
   "cell_type": "markdown",
   "id": "11327354",
   "metadata": {},
   "source": [
    "Pierwszy sposób (tablica jednowymiarowa)"
   ]
  },
  {
   "cell_type": "code",
   "execution_count": 211,
   "id": "214aef97",
   "metadata": {},
   "outputs": [
    {
     "data": {
      "text/plain": [
       "array([1., 1., 1., 1., 2., 2., 2., 2., 3., 3., 3., 3., 1., 1., 1., 1., 2.,\n",
       "       2., 2., 2., 3., 3., 3., 3., 1., 1., 1., 1., 2., 2., 2., 2., 3., 3.,\n",
       "       3., 3., 1., 1., 1., 1., 2., 2., 2., 2., 3., 3., 3., 3.])"
      ]
     },
     "execution_count": 211,
     "metadata": {},
     "output_type": "execute_result"
    }
   ],
   "source": [
    "vector = np.asarray([1,2,3])\n",
    "vector_5=np.empty(12)\n",
    "\n",
    "vector_5[12+0:12+4]=np.copy(vector[0])\n",
    "vector_5[12+5:12+7]=np.copy(vector[1])\n",
    "vector_5[12+8:12+11]=np.copy(vector[2])\n",
    "\n",
    "vector_5=np.append(vector_0,vector_0)\n",
    "vector_5=np.append(vector_final,vector_2)\n",
    "\n",
    "vector_5"
   ]
  },
  {
   "cell_type": "markdown",
   "id": "8a9ece4e",
   "metadata": {},
   "source": [
    "Drugi sposób (tablica trójwymiarowa)"
   ]
  },
  {
   "cell_type": "code",
   "execution_count": 199,
   "id": "c10b17ad",
   "metadata": {},
   "outputs": [
    {
     "data": {
      "text/plain": [
       "array([[[1., 1., 1., 1.],\n",
       "        [2., 2., 2., 2.],\n",
       "        [3., 3., 3., 3.],\n",
       "        [4., 4., 4., 4.]],\n",
       "\n",
       "       [[1., 1., 1., 1.],\n",
       "        [2., 2., 2., 2.],\n",
       "        [3., 3., 3., 3.],\n",
       "        [4., 4., 4., 4.]],\n",
       "\n",
       "       [[1., 1., 1., 1.],\n",
       "        [2., 2., 2., 2.],\n",
       "        [3., 3., 3., 3.],\n",
       "        [4., 4., 4., 4.]]])"
      ]
     },
     "execution_count": 199,
     "metadata": {},
     "output_type": "execute_result"
    }
   ],
   "source": [
    "array=np.empty((3,4,4))\n",
    "for i in range(3):\n",
    "    array_2[:,i,:]=i+1\n",
    "array"
   ]
  },
  {
   "cell_type": "code",
   "execution_count": 192,
   "id": "76dd072b",
   "metadata": {},
   "outputs": [],
   "source": [
    "?np.empty"
   ]
  },
  {
   "cell_type": "markdown",
   "id": "694fb359",
   "metadata": {},
   "source": [
    "**6.2.** Wygeneruj wektor wartości od 1 do 10 co 0.25."
   ]
  },
  {
   "cell_type": "code",
   "execution_count": 162,
   "id": "54b48113",
   "metadata": {},
   "outputs": [
    {
     "data": {
      "text/plain": [
       "array([ 1.  ,  1.25,  1.5 ,  1.75,  2.  ,  2.25,  2.5 ,  2.75,  3.  ,\n",
       "        3.25,  3.5 ,  3.75,  4.  ,  4.25,  4.5 ,  4.75,  5.  ,  5.25,\n",
       "        5.5 ,  5.75,  6.  ,  6.25,  6.5 ,  6.75,  7.  ,  7.25,  7.5 ,\n",
       "        7.75,  8.  ,  8.25,  8.5 ,  8.75,  9.  ,  9.25,  9.5 ,  9.75,\n",
       "       10.  ])"
      ]
     },
     "execution_count": 162,
     "metadata": {},
     "output_type": "execute_result"
    }
   ],
   "source": [
    "arr = np.arange(1,10.25,0.25)\n",
    "arr"
   ]
  },
  {
   "cell_type": "markdown",
   "id": "1ddd9085",
   "metadata": {},
   "source": [
    "**6.3.** Wygeneruj wektor 43 wartości równomiernie od 1 do 10."
   ]
  },
  {
   "cell_type": "code",
   "execution_count": 163,
   "id": "528dc6a1",
   "metadata": {},
   "outputs": [
    {
     "data": {
      "text/plain": [
       "array([ 1.        ,  1.21428571,  1.42857143,  1.64285714,  1.85714286,\n",
       "        2.07142857,  2.28571429,  2.5       ,  2.71428571,  2.92857143,\n",
       "        3.14285714,  3.35714286,  3.57142857,  3.78571429,  4.        ,\n",
       "        4.21428571,  4.42857143,  4.64285714,  4.85714286,  5.07142857,\n",
       "        5.28571429,  5.5       ,  5.71428571,  5.92857143,  6.14285714,\n",
       "        6.35714286,  6.57142857,  6.78571429,  7.        ,  7.21428571,\n",
       "        7.42857143,  7.64285714,  7.85714286,  8.07142857,  8.28571429,\n",
       "        8.5       ,  8.71428571,  8.92857143,  9.14285714,  9.35714286,\n",
       "        9.57142857,  9.78571429, 10.        ])"
      ]
     },
     "execution_count": 163,
     "metadata": {},
     "output_type": "execute_result"
    }
   ],
   "source": [
    "arr = np.linspace(start=1,stop=10, num=43)\n",
    "arr"
   ]
  },
  {
   "cell_type": "markdown",
   "id": "9b1c069e",
   "metadata": {},
   "source": [
    "**6.4.** Wyświetl co trzeci element z powyższego wektora."
   ]
  },
  {
   "cell_type": "code",
   "execution_count": 183,
   "id": "183ba3ce",
   "metadata": {},
   "outputs": [
    {
     "data": {
      "text/plain": [
       "array([ 1.        ,  1.64285714,  2.28571429,  2.92857143,  3.57142857,\n",
       "        4.21428571,  4.85714286,  5.5       ,  6.14285714,  6.78571429,\n",
       "        7.42857143,  8.07142857,  8.71428571,  9.35714286, 10.        ])"
      ]
     },
     "execution_count": 183,
     "metadata": {},
     "output_type": "execute_result"
    }
   ],
   "source": [
    "arr_2 = arr[::3]\n",
    "arr_2"
   ]
  },
  {
   "cell_type": "markdown",
   "id": "914bdaf7",
   "metadata": {},
   "source": [
    "**6.5.** Wyjaśnij wynik działania komendy c(1,2,3,4,5,6) – 1"
   ]
  },
  {
   "cell_type": "code",
   "execution_count": 186,
   "id": "64d7f0fd",
   "metadata": {},
   "outputs": [
    {
     "data": {
      "text/plain": [
       "array([0, 1, 2, 3, 4, 5])"
      ]
     },
     "execution_count": 186,
     "metadata": {},
     "output_type": "execute_result"
    }
   ],
   "source": [
    "vector=np.asarray([1,2,3,4,5,6])\n",
    "vector-1"
   ]
  },
  {
   "cell_type": "markdown",
   "id": "0666ea1f",
   "metadata": {},
   "source": [
    "Po stworzeniu tablicy jednowymiarowej istnieje możliwość odjęcia od niej wartości skalarnej. W powyższym przykładzie wartość każdego elementu została pomniejszona o jeden."
   ]
  },
  {
   "cell_type": "markdown",
   "id": "203cba5d",
   "metadata": {},
   "source": [
    "**6.6.** Wyjaśnij wynik działania komendy c(1,2,3,4,5,6) - c(1,2)"
   ]
  },
  {
   "cell_type": "code",
   "execution_count": 187,
   "id": "69fb575c",
   "metadata": {},
   "outputs": [
    {
     "ename": "ValueError",
     "evalue": "operands could not be broadcast together with shapes (6,) (2,) ",
     "output_type": "error",
     "traceback": [
      "\u001b[1;31m---------------------------------------------------------------------------\u001b[0m",
      "\u001b[1;31mValueError\u001b[0m                                Traceback (most recent call last)",
      "Input \u001b[1;32mIn [187]\u001b[0m, in \u001b[0;36m<cell line: 3>\u001b[1;34m()\u001b[0m\n\u001b[0;32m      1\u001b[0m A\u001b[38;5;241m=\u001b[39mnp\u001b[38;5;241m.\u001b[39masarray([\u001b[38;5;241m1\u001b[39m,\u001b[38;5;241m2\u001b[39m,\u001b[38;5;241m3\u001b[39m,\u001b[38;5;241m4\u001b[39m,\u001b[38;5;241m5\u001b[39m,\u001b[38;5;241m6\u001b[39m])\n\u001b[0;32m      2\u001b[0m B\u001b[38;5;241m=\u001b[39mnp\u001b[38;5;241m.\u001b[39masarray([\u001b[38;5;241m1\u001b[39m,\u001b[38;5;241m2\u001b[39m])\n\u001b[1;32m----> 3\u001b[0m \u001b[43mA\u001b[49m\u001b[38;5;241;43m-\u001b[39;49m\u001b[43mB\u001b[49m\n",
      "\u001b[1;31mValueError\u001b[0m: operands could not be broadcast together with shapes (6,) (2,) "
     ]
    }
   ],
   "source": [
    "A=np.asarray([1,2,3,4,5,6])\n",
    "B=np.asarray([1,2])\n",
    "A-B"
   ]
  },
  {
   "cell_type": "markdown",
   "id": "5adf9a13",
   "metadata": {},
   "source": [
    "Operacja nie mogła zostać wykonana, ze względu na różne kształty podanych tablic."
   ]
  },
  {
   "cell_type": "markdown",
   "id": "fab2f33f",
   "metadata": {},
   "source": [
    "**6.7.** Utwórz macierz o 3 wierszach i 2 kolumnach poprzez"
   ]
  },
  {
   "cell_type": "markdown",
   "id": "4bdd920e",
   "metadata": {},
   "source": [
    "a) wypełnienie jej wierszowo wektorem c(1,2,3,4,5,6),"
   ]
  },
  {
   "cell_type": "code",
   "execution_count": 226,
   "id": "e70f40dd",
   "metadata": {},
   "outputs": [
    {
     "data": {
      "text/plain": [
       "array([[1, 2],\n",
       "       [3, 4],\n",
       "       [5, 6]])"
      ]
     },
     "execution_count": 226,
     "metadata": {},
     "output_type": "execute_result"
    }
   ],
   "source": [
    "list = [1,2,3,4,5,6]\n",
    "array = np.array(list).reshape((3,2), order='C')\n",
    "array"
   ]
  },
  {
   "cell_type": "markdown",
   "id": "7fa85f68",
   "metadata": {},
   "source": [
    "b) wypełnienie jej kolumnowo wektorem c(1,2,3,4,5,6),"
   ]
  },
  {
   "cell_type": "code",
   "execution_count": 224,
   "id": "51a40520",
   "metadata": {},
   "outputs": [
    {
     "data": {
      "text/plain": [
       "array([[1, 4],\n",
       "       [2, 5],\n",
       "       [3, 6]])"
      ]
     },
     "execution_count": 224,
     "metadata": {},
     "output_type": "execute_result"
    }
   ],
   "source": [
    "array=np.array(list).reshape((3,2), order='F')\n",
    "array"
   ]
  },
  {
   "cell_type": "markdown",
   "id": "56844eb3",
   "metadata": {},
   "source": [
    "c) złożenie wektorów c(1,2,3) i c(4,5,6),"
   ]
  },
  {
   "cell_type": "code",
   "execution_count": 231,
   "id": "a236a681",
   "metadata": {},
   "outputs": [
    {
     "data": {
      "text/plain": [
       "array([[1, 2],\n",
       "       [3, 4],\n",
       "       [5, 6]])"
      ]
     },
     "execution_count": 231,
     "metadata": {},
     "output_type": "execute_result"
    }
   ],
   "source": [
    "list_1 = [1,2,3]\n",
    "list_2 = [4,5,6]\n",
    "array=np.array((list_1,list_2)).reshape(3,2)\n",
    "array"
   ]
  },
  {
   "cell_type": "markdown",
   "id": "fc17361e",
   "metadata": {},
   "source": [
    "d) złożenie wektorów c(1,4), c(2,5) i c(3,6)."
   ]
  },
  {
   "cell_type": "code",
   "execution_count": 233,
   "id": "c8583cc5",
   "metadata": {},
   "outputs": [
    {
     "data": {
      "text/plain": [
       "array([[1, 4],\n",
       "       [2, 5],\n",
       "       [3, 6]])"
      ]
     },
     "execution_count": 233,
     "metadata": {},
     "output_type": "execute_result"
    }
   ],
   "source": [
    "list_1=[1,4]\n",
    "list_2=[2,5]\n",
    "list_3=[3,6]\n",
    "array=np.array((list_1, list_2, list_3)).reshape(3,2)\n",
    "array"
   ]
  },
  {
   "cell_type": "markdown",
   "id": "c7e58181",
   "metadata": {},
   "source": [
    "**6.8.** Utwórz macierz A o 6 wierszach i 6 kolumnach wypełnioną wierszowo liczbami od 1 do 36.\n",
    "Następnie korzystając z indeksowania utwórz macierz B:"
   ]
  },
  {
   "cell_type": "code",
   "execution_count": 386,
   "id": "33e86955",
   "metadata": {},
   "outputs": [
    {
     "data": {
      "text/plain": [
       "array([[ 1,  2,  3,  4,  5,  6],\n",
       "       [ 7,  8,  9, 10, 11, 12],\n",
       "       [13, 14, 15, 16, 17, 18],\n",
       "       [19, 20, 21, 22, 23, 24],\n",
       "       [25, 26, 27, 28, 29, 30],\n",
       "       [31, 32, 33, 34, 35, 36]])"
      ]
     },
     "execution_count": 386,
     "metadata": {},
     "output_type": "execute_result"
    }
   ],
   "source": [
    "array_A = np.arange(start=1, stop=37).reshape((6,6))\n",
    "array_A"
   ]
  },
  {
   "cell_type": "markdown",
   "id": "33266c87",
   "metadata": {},
   "source": [
    "a) o 3 wierszach i 3 kolumnach zawierającą elementy z wierszy o parzystych numerach i kolumn\n",
    "o nieparzystych numerach z macierzy A, przy czym kolumny w odwrotnej kolejności, czyli:\n",
    "pierwszy wiersz macierzy B będzie zawierał liczby 11, 9, 7, drugi 23, 21, 19, a trzeci 35, 33 i\n",
    "31,"
   ]
  },
  {
   "cell_type": "code",
   "execution_count": 338,
   "id": "3650b7d1",
   "metadata": {},
   "outputs": [
    {
     "data": {
      "text/plain": [
       "array([[11.,  9.,  7.],\n",
       "       [17., 15., 13.],\n",
       "       [23., 21., 19.]])"
      ]
     },
     "execution_count": 338,
     "metadata": {},
     "output_type": "execute_result"
    }
   ],
   "source": [
    "array_B=np.eye(3)\n",
    "\n",
    "for i in range (3):\n",
    "    array_B[i][0:4]=array_A[i+1][-2:-7:-2].copy()\n",
    "    \n",
    "array_B"
   ]
  },
  {
   "cell_type": "markdown",
   "id": "dc7081f7",
   "metadata": {},
   "source": [
    "b) składającą się z dwóch ostatnich wierszy macierzy A,"
   ]
  },
  {
   "cell_type": "code",
   "execution_count": 348,
   "id": "a24c18b7",
   "metadata": {},
   "outputs": [
    {
     "data": {
      "text/plain": [
       "array([[25, 26, 27, 28, 29, 30],\n",
       "       [31, 32, 33, 34, 35, 36]])"
      ]
     },
     "execution_count": 348,
     "metadata": {},
     "output_type": "execute_result"
    }
   ],
   "source": [
    "array_B = array_A[-2:].copy()\n",
    "array_B"
   ]
  },
  {
   "cell_type": "markdown",
   "id": "73480800",
   "metadata": {},
   "source": [
    "c) składającą się z dwóch środkowych kolumn macierzy A,"
   ]
  },
  {
   "cell_type": "code",
   "execution_count": 367,
   "id": "85ddba34",
   "metadata": {},
   "outputs": [
    {
     "data": {
      "text/plain": [
       "array([[ 3,  4],\n",
       "       [ 9, 10],\n",
       "       [15, 16],\n",
       "       [21, 22],\n",
       "       [27, 28],\n",
       "       [33, 34]])"
      ]
     },
     "execution_count": 367,
     "metadata": {},
     "output_type": "execute_result"
    }
   ],
   "source": [
    "array_B = array_A[:,2:4]\n",
    "array_B"
   ]
  },
  {
   "cell_type": "markdown",
   "id": "f78e761a",
   "metadata": {},
   "source": [
    "d) składającą się z macierzy A z usuniętym drugim wierszem i trzecią kolumną."
   ]
  },
  {
   "cell_type": "code",
   "execution_count": 390,
   "id": "5a6852b8",
   "metadata": {},
   "outputs": [
    {
     "data": {
      "text/plain": [
       "array([[ 1,  2,  4,  5,  6],\n",
       "       [13, 14, 16, 17, 18],\n",
       "       [19, 20, 22, 23, 24],\n",
       "       [25, 26, 28, 29, 30],\n",
       "       [31, 32, 34, 35, 36]])"
      ]
     },
     "execution_count": 390,
     "metadata": {},
     "output_type": "execute_result"
    }
   ],
   "source": [
    "array_B=np.delete(array_A, 2,1).copy() #trzecia kolumna\n",
    "array_B=np.delete(array_B, 1,0)\n",
    "array_B"
   ]
  },
  {
   "cell_type": "markdown",
   "id": "a0f7f996",
   "metadata": {},
   "source": [
    "**6.9.** Wyjaśnij dla powyższej macierzy A wynik działania komendy A[2:3,4:6] <- c(1,2,3)"
   ]
  },
  {
   "cell_type": "code",
   "execution_count": 422,
   "id": "01eb1252",
   "metadata": {},
   "outputs": [
    {
     "data": {
      "text/plain": [
       "array([[ 1,  2,  3,  4,  5,  6],\n",
       "       [ 7,  8,  9,  1,  2,  3],\n",
       "       [13, 14, 15,  1,  2,  3],\n",
       "       [19, 20, 21, 22, 23, 24],\n",
       "       [25, 26, 27, 28, 29, 30],\n",
       "       [31, 32, 33, 34, 35, 36]])"
      ]
     },
     "execution_count": 422,
     "metadata": {},
     "output_type": "execute_result"
    }
   ],
   "source": [
    "array_A[1:3,3:6]=[1,2,3]\n",
    "array_A"
   ]
  },
  {
   "cell_type": "markdown",
   "id": "ac0a97ce",
   "metadata": {},
   "source": [
    "Powyższe zadanie zmodyfikowałam w taki sposób by wynik był taki sam jak w R. \n",
    "Dla 6 pozycji znajdujących się w macierzy A w 2 i 3 wierszu kolumnach od 4 do 6 \n",
    "(10 11 12 \n",
    " 16 17 18) \n",
    "zostały zmienione wartości na  1,2,3. Wartości zostały dodane do macierzy A wierszowo. "
   ]
  },
  {
   "cell_type": "markdown",
   "id": "ca16b1eb",
   "metadata": {},
   "source": [
    "**6.10.** Wyjaśnij jaka jest dla powyższej macierzy A różnica między komendą A>10 a komendą\n",
    "A[A>10]"
   ]
  },
  {
   "cell_type": "code",
   "execution_count": 423,
   "id": "d0f84391",
   "metadata": {},
   "outputs": [
    {
     "data": {
      "text/plain": [
       "array([[False, False, False, False, False, False],\n",
       "       [False, False, False, False, False, False],\n",
       "       [ True,  True,  True, False, False, False],\n",
       "       [ True,  True,  True,  True,  True,  True],\n",
       "       [ True,  True,  True,  True,  True,  True],\n",
       "       [ True,  True,  True,  True,  True,  True]])"
      ]
     },
     "execution_count": 423,
     "metadata": {},
     "output_type": "execute_result"
    }
   ],
   "source": [
    "array_A>10"
   ]
  },
  {
   "cell_type": "markdown",
   "id": "0d579d7b",
   "metadata": {},
   "source": [
    "Dla A>10  cała macierz jest sprawdzana pod kątem warunku (element>10). Zwracana jest wartość typu boolean (dla każdego takiego elementu to wartość TRUE lub FALSE). Zwrócona jest macierz nadal w takim samym rozmiarze,czyli 6x6\n",
    "wypełniona wartościami TRUE i FALSE."
   ]
  },
  {
   "cell_type": "code",
   "execution_count": 426,
   "id": "e127f716",
   "metadata": {},
   "outputs": [
    {
     "data": {
      "text/plain": [
       "array([13, 14, 15, 19, 20, 21, 22, 23, 24, 25, 26, 27, 28, 29, 30, 31, 32,\n",
       "       33, 34, 35, 36])"
      ]
     },
     "execution_count": 426,
     "metadata": {},
     "output_type": "execute_result"
    }
   ],
   "source": [
    "array_A[array_A>10]"
   ]
  },
  {
   "cell_type": "markdown",
   "id": "56f593dd",
   "metadata": {},
   "source": [
    "Dla A[A>10] macierz jest sprawdzana kolumnowo i jeśli któryś z elementów posiada wartość większą niż 10 to jest on zwracany.  Powstaje nam wektor, w którym znajdują się konkretne wartości z macierzy. \n"
   ]
  },
  {
   "cell_type": "markdown",
   "id": "af9ce742",
   "metadata": {},
   "source": [
    "### Posortuj poniższą tablicę w wierszach."
   ]
  },
  {
   "cell_type": "code",
   "execution_count": 440,
   "id": "81ed57ad",
   "metadata": {},
   "outputs": [
    {
     "data": {
      "text/plain": [
       "array([[5, 2, 1, 6],\n",
       "       [4, 8, 3, 1],\n",
       "       [2, 4, 7, 8]])"
      ]
     },
     "execution_count": 440,
     "metadata": {},
     "output_type": "execute_result"
    }
   ],
   "source": [
    "T = np.array([[5,2,1,6],[4,8,3,1],[2,4,7,8]])\n",
    "T"
   ]
  },
  {
   "cell_type": "code",
   "execution_count": 431,
   "id": "787aa8fa",
   "metadata": {},
   "outputs": [
    {
     "data": {
      "text/plain": [
       "array([[1, 2, 5, 6],\n",
       "       [1, 3, 4, 8],\n",
       "       [2, 4, 7, 8]])"
      ]
     },
     "execution_count": 431,
     "metadata": {},
     "output_type": "execute_result"
    }
   ],
   "source": [
    "np.sort(T,axis=1)"
   ]
  },
  {
   "cell_type": "markdown",
   "id": "fd0b3b58",
   "metadata": {},
   "source": [
    "### Posortuj powyższą tablicę w kolumnach."
   ]
  },
  {
   "cell_type": "code",
   "execution_count": 434,
   "id": "b2c2ce25",
   "metadata": {},
   "outputs": [
    {
     "data": {
      "text/plain": [
       "array([[2, 2, 1, 1],\n",
       "       [4, 4, 3, 6],\n",
       "       [5, 8, 7, 8]])"
      ]
     },
     "execution_count": 434,
     "metadata": {},
     "output_type": "execute_result"
    }
   ],
   "source": [
    "np.sort(T,axis=0)"
   ]
  },
  {
   "cell_type": "markdown",
   "id": "f667e2ad",
   "metadata": {},
   "source": [
    "### Za pomocą np.argsort() podaj numery elementów oryginalnej tablicy w każdym wierszu, gdyby była ona posortowana w wierszach."
   ]
  },
  {
   "cell_type": "code",
   "execution_count": 447,
   "id": "8856d4ab",
   "metadata": {},
   "outputs": [
    {
     "data": {
      "text/plain": [
       "array([[2, 1, 0, 3],\n",
       "       [3, 2, 0, 1],\n",
       "       [0, 1, 2, 3]], dtype=int64)"
      ]
     },
     "execution_count": 447,
     "metadata": {},
     "output_type": "execute_result"
    }
   ],
   "source": [
    "np.argsort(T,axis=1)"
   ]
  },
  {
   "cell_type": "markdown",
   "id": "0c86e4ad",
   "metadata": {},
   "source": [
    "### Poniższą tablicę posortuj zgodnie z porządkiem leksykograficznym na podstawie kolumny drugiej, w następnej kolejności na podstawie kolumny czwartej, a ostatecznie szóstej."
   ]
  },
  {
   "cell_type": "code",
   "execution_count": 6,
   "id": "eb00cec0",
   "metadata": {},
   "outputs": [],
   "source": [
    "T = np.array([[5,2,5,2,7,4],[2,2,1,5,4,3],[1,3,4,1,4,5],[1,3,1,1,2,2]])"
   ]
  },
  {
   "cell_type": "code",
   "execution_count": 7,
   "id": "ae12d64e",
   "metadata": {},
   "outputs": [
    {
     "data": {
      "text/plain": [
       "array([[5, 2, 5, 2, 7, 4],\n",
       "       [2, 2, 1, 5, 4, 3],\n",
       "       [1, 3, 4, 1, 4, 5],\n",
       "       [1, 3, 1, 1, 2, 2]])"
      ]
     },
     "execution_count": 7,
     "metadata": {},
     "output_type": "execute_result"
    }
   ],
   "source": [
    "T"
   ]
  },
  {
   "cell_type": "code",
   "execution_count": 1232,
   "id": "49464a3e",
   "metadata": {},
   "outputs": [
    {
     "data": {
      "text/plain": [
       "array([0, 1, 3, 2], dtype=int64)"
      ]
     },
     "execution_count": 1232,
     "metadata": {},
     "output_type": "execute_result"
    }
   ],
   "source": [
    "order_of_rows=np.lexsort((T[:,5],T[:,3], T[:,1])) #kolejność w jakiej powinny być poukładane wiersze\n",
    "order_of_rows"
   ]
  },
  {
   "cell_type": "code",
   "execution_count": 1234,
   "id": "999b16d8",
   "metadata": {},
   "outputs": [
    {
     "name": "stdout",
     "output_type": "stream",
     "text": [
      "[[5. 2. 5. 2. 7. 4.]\n",
      " [2. 2. 1. 5. 4. 3.]\n",
      " [1. 3. 1. 1. 2. 2.]\n",
      " [1. 3. 4. 1. 4. 5.]]\n"
     ]
    }
   ],
   "source": [
    "new_T=np.empty((4,6))\n",
    "for i in range (order_of_rows.shape[0]):\n",
    "    new_T[i,:] = T[[(order_of_rows[i])],:]           \n",
    "    \n",
    "print(new_T)"
   ]
  },
  {
   "cell_type": "markdown",
   "id": "1b9ec419",
   "metadata": {},
   "source": [
    "### Za pomocą np.hsplit() podziel powyższą tablicę na 3 równe części."
   ]
  },
  {
   "cell_type": "code",
   "execution_count": 480,
   "id": "424f091e",
   "metadata": {},
   "outputs": [
    {
     "data": {
      "text/plain": [
       "array([[5, 2, 5, 2, 7, 4],\n",
       "       [2, 2, 1, 5, 4, 3],\n",
       "       [1, 3, 4, 1, 4, 5],\n",
       "       [1, 3, 1, 1, 2, 2]])"
      ]
     },
     "execution_count": 480,
     "metadata": {},
     "output_type": "execute_result"
    }
   ],
   "source": [
    "T = np.array([[5,2,5,2,7,4],[2,2,1,5,4,3],[1,3,4,1,4,5],[1,3,1,1,2,2]])\n",
    "T"
   ]
  },
  {
   "cell_type": "code",
   "execution_count": 497,
   "id": "8b165bfa",
   "metadata": {},
   "outputs": [
    {
     "data": {
      "text/plain": [
       "[array([[5, 2],\n",
       "        [2, 2],\n",
       "        [1, 3],\n",
       "        [1, 3]]),\n",
       " array([[5, 2],\n",
       "        [1, 5],\n",
       "        [4, 1],\n",
       "        [1, 1]]),\n",
       " array([[7, 4],\n",
       "        [4, 3],\n",
       "        [4, 5],\n",
       "        [2, 2]])]"
      ]
     },
     "execution_count": 497,
     "metadata": {},
     "output_type": "execute_result"
    }
   ],
   "source": [
    "A= np.hsplit(T, 3)\n",
    "A"
   ]
  },
  {
   "cell_type": "markdown",
   "id": "e2d3050f",
   "metadata": {},
   "source": [
    "### Za pomocą np.hsplit() podziel powyższą tablicę na 4 części tak, aby w pierwszej , trzeciej i czwartej części znalazła się tylko jedna kolumna, a w drugiej części 3 kolumny."
   ]
  },
  {
   "cell_type": "code",
   "execution_count": 498,
   "id": "cb1a211a",
   "metadata": {},
   "outputs": [
    {
     "data": {
      "text/plain": [
       "[array([[5],\n",
       "        [2],\n",
       "        [1],\n",
       "        [1]]),\n",
       " array([[2, 5, 2],\n",
       "        [2, 1, 5],\n",
       "        [3, 4, 1],\n",
       "        [3, 1, 1]]),\n",
       " array([[7],\n",
       "        [4],\n",
       "        [4],\n",
       "        [2]]),\n",
       " array([[4],\n",
       "        [3],\n",
       "        [5],\n",
       "        [2]])]"
      ]
     },
     "execution_count": 498,
     "metadata": {},
     "output_type": "execute_result"
    }
   ],
   "source": [
    "B = np.hsplit(T,[1,4,5])\n",
    "B"
   ]
  },
  {
   "cell_type": "markdown",
   "id": "9f454a07",
   "metadata": {},
   "source": [
    "### Za pomocą np.vsplit() podziel powyższą tablicę na 3 dowolne części."
   ]
  },
  {
   "cell_type": "code",
   "execution_count": 501,
   "id": "45588255",
   "metadata": {},
   "outputs": [
    {
     "data": {
      "text/plain": [
       "[array([[5, 2, 5, 2, 7, 4]]),\n",
       " array([[2, 2, 1, 5, 4, 3],\n",
       "        [1, 3, 4, 1, 4, 5]]),\n",
       " array([[1, 3, 1, 1, 2, 2]])]"
      ]
     },
     "execution_count": 501,
     "metadata": {},
     "output_type": "execute_result"
    }
   ],
   "source": [
    "C= np.vsplit(T,[1,3])\n",
    "C"
   ]
  },
  {
   "cell_type": "markdown",
   "id": "d422e988",
   "metadata": {},
   "source": [
    "### W trzech powyższych zadaniach, po podziale scal z powrotem części w jedną tablicę za pomocą np.vstack() lub np.hstack()."
   ]
  },
  {
   "cell_type": "code",
   "execution_count": 502,
   "id": "2f525a21",
   "metadata": {},
   "outputs": [
    {
     "data": {
      "text/plain": [
       "array([[5, 2, 5, 2, 7, 4],\n",
       "       [2, 2, 1, 5, 4, 3],\n",
       "       [1, 3, 4, 1, 4, 5],\n",
       "       [1, 3, 1, 1, 2, 2]])"
      ]
     },
     "execution_count": 502,
     "metadata": {},
     "output_type": "execute_result"
    }
   ],
   "source": [
    "A_consolidated = np.hstack(A)\n",
    "A_consolidated"
   ]
  },
  {
   "cell_type": "code",
   "execution_count": 503,
   "id": "b041d81d",
   "metadata": {},
   "outputs": [
    {
     "data": {
      "text/plain": [
       "array([[5, 2, 5, 2, 7, 4],\n",
       "       [2, 2, 1, 5, 4, 3],\n",
       "       [1, 3, 4, 1, 4, 5],\n",
       "       [1, 3, 1, 1, 2, 2]])"
      ]
     },
     "execution_count": 503,
     "metadata": {},
     "output_type": "execute_result"
    }
   ],
   "source": [
    "B_consolidated = np.hstack(B)\n",
    "B_consolidated"
   ]
  },
  {
   "cell_type": "code",
   "execution_count": 505,
   "id": "9e8b651c",
   "metadata": {},
   "outputs": [
    {
     "data": {
      "text/plain": [
       "array([[5, 2, 5, 2, 7, 4],\n",
       "       [2, 2, 1, 5, 4, 3],\n",
       "       [1, 3, 4, 1, 4, 5],\n",
       "       [1, 3, 1, 1, 2, 2]])"
      ]
     },
     "execution_count": 505,
     "metadata": {},
     "output_type": "execute_result"
    }
   ],
   "source": [
    "C_consolidated = np.vstack(C)\n",
    "C_consolidated"
   ]
  },
  {
   "cell_type": "markdown",
   "id": "9d309df1",
   "metadata": {},
   "source": [
    "### Co robi z wektorem w poniższa operacja?"
   ]
  },
  {
   "cell_type": "code",
   "execution_count": 526,
   "id": "170bc55d",
   "metadata": {},
   "outputs": [
    {
     "name": "stdout",
     "output_type": "stream",
     "text": [
      "(10,)\n",
      "(10, 1)\n"
     ]
    },
    {
     "data": {
      "text/plain": [
       "array([[ 1],\n",
       "       [ 2],\n",
       "       [ 3],\n",
       "       [ 4],\n",
       "       [ 5],\n",
       "       [ 6],\n",
       "       [ 7],\n",
       "       [ 8],\n",
       "       [ 9],\n",
       "       [10]])"
      ]
     },
     "execution_count": 526,
     "metadata": {},
     "output_type": "execute_result"
    }
   ],
   "source": [
    "w = np.arange(1,11)\n",
    "print(w.shape)\n",
    "w = w[:, np.newaxis]\n",
    "print(w.shape)\n",
    "w"
   ]
  },
  {
   "cell_type": "markdown",
   "id": "3fc9ec88",
   "metadata": {},
   "source": [
    "Zwiększony został wymiar o jeden w porównaniu do pierwotnego wektoru. Obecnie jest to tablica dwuwymarowa o jednej kolumnie i 10 wierszach. "
   ]
  },
  {
   "cell_type": "markdown",
   "id": "2c3d7dcd",
   "metadata": {},
   "source": [
    "### Co stanie się, jeżeli w powyszej opercji zamienimy pozycje indeksowania?"
   ]
  },
  {
   "cell_type": "code",
   "execution_count": 525,
   "id": "fdf0b469",
   "metadata": {},
   "outputs": [
    {
     "name": "stdout",
     "output_type": "stream",
     "text": [
      "(10,)\n",
      "(1, 10)\n"
     ]
    },
    {
     "data": {
      "text/plain": [
       "array([[ 1,  2,  3,  4,  5,  6,  7,  8,  9, 10]])"
      ]
     },
     "execution_count": 525,
     "metadata": {},
     "output_type": "execute_result"
    }
   ],
   "source": [
    "w = np.arange(1,11)\n",
    "print(w.shape)\n",
    "w = w[np.newaxis, :]\n",
    "print(w.shape)\n",
    "w"
   ]
  },
  {
   "cell_type": "markdown",
   "id": "ea5aa32c",
   "metadata": {},
   "source": [
    "Również powstała tablica dwuwymiarowa, jednak teraz jest w niej 10 kolumn"
   ]
  },
  {
   "cell_type": "markdown",
   "id": "d28e3a88",
   "metadata": {},
   "source": [
    "### Korzystając z powyższego wektora i operatora `*`, wykorzystaj rozgłaszanie do wyliczenia tabliczki mnożenia do 100."
   ]
  },
  {
   "cell_type": "code",
   "execution_count": 571,
   "id": "fbfa62b6",
   "metadata": {},
   "outputs": [
    {
     "data": {
      "text/plain": [
       "array([[  1,   2,   3,   4,   5,   6,   7,   8,   9,  10],\n",
       "       [  2,   4,   6,   8,  10,  12,  14,  16,  18,  20],\n",
       "       [  3,   6,   9,  12,  15,  18,  21,  24,  27,  30],\n",
       "       [  4,   8,  12,  16,  20,  24,  28,  32,  36,  40],\n",
       "       [  5,  10,  15,  20,  25,  30,  35,  40,  45,  50],\n",
       "       [  6,  12,  18,  24,  30,  36,  42,  48,  54,  60],\n",
       "       [  7,  14,  21,  28,  35,  42,  49,  56,  63,  70],\n",
       "       [  8,  16,  24,  32,  40,  48,  56,  64,  72,  80],\n",
       "       [  9,  18,  27,  36,  45,  54,  63,  72,  81,  90],\n",
       "       [ 10,  20,  30,  40,  50,  60,  70,  80,  90, 100]])"
      ]
     },
     "execution_count": 571,
     "metadata": {},
     "output_type": "execute_result"
    }
   ],
   "source": [
    "multiplication_table = w *w.T\n",
    "multiplication_table"
   ]
  },
  {
   "cell_type": "markdown",
   "id": "18f178a9",
   "metadata": {},
   "source": [
    "### Wykorzystaj funkcję `np.nonzero()` aby uzyskać indeksy wierszy i kolumn wszystkich elementów z tablicy z zadania 10, która są jednocześnie nie mniejsze od 2 i mniejsze od 7. Wypisz wszystkie takie pary (nr_wiersza, nr_kolumny) na ekranie (podpowiedź: komenda `zip`)."
   ]
  },
  {
   "cell_type": "code",
   "execution_count": 8,
   "id": "4b565b57",
   "metadata": {},
   "outputs": [
    {
     "data": {
      "text/plain": [
       "(array([0, 0, 0, 0, 0, 1, 1, 1, 1, 1, 2, 2, 2, 2, 3, 3, 3], dtype=int64),\n",
       " array([0, 1, 2, 3, 5, 0, 1, 3, 4, 5, 1, 2, 4, 5, 1, 4, 5], dtype=int64))"
      ]
     },
     "execution_count": 8,
     "metadata": {},
     "output_type": "execute_result"
    }
   ],
   "source": [
    "np.nonzero((T >= 2) & (T < 7))"
   ]
  },
  {
   "cell_type": "code",
   "execution_count": 17,
   "id": "54d0bfa1",
   "metadata": {},
   "outputs": [],
   "source": [
    "x = np.nonzero((T >= 2) & (T < 7))[0]\n",
    "y = np.nonzero((T >= 2) & (T < 7))[1]\n",
    "zipped = zip (x,y)"
   ]
  },
  {
   "cell_type": "code",
   "execution_count": 18,
   "id": "4b3cdac2",
   "metadata": {},
   "outputs": [
    {
     "data": {
      "text/plain": [
       "[(0, 0),\n",
       " (0, 1),\n",
       " (0, 2),\n",
       " (0, 3),\n",
       " (0, 5),\n",
       " (1, 0),\n",
       " (1, 1),\n",
       " (1, 3),\n",
       " (1, 4),\n",
       " (1, 5),\n",
       " (2, 1),\n",
       " (2, 2),\n",
       " (2, 4),\n",
       " (2, 5),\n",
       " (3, 1),\n",
       " (3, 4),\n",
       " (3, 5)]"
      ]
     },
     "execution_count": 18,
     "metadata": {},
     "output_type": "execute_result"
    }
   ],
   "source": [
    "list(zipped)"
   ]
  },
  {
   "cell_type": "markdown",
   "id": "ed0455d8",
   "metadata": {},
   "source": [
    "###  Korzystając z np.unique(), w poniższym wektorze znajdź wszystkie elementy unikatowe, ich indeksy oraz liczbę powtórzeń każdego z nich."
   ]
  },
  {
   "cell_type": "code",
   "execution_count": 572,
   "id": "2b7f6c0c",
   "metadata": {},
   "outputs": [],
   "source": [
    "w = np.array([1,2,2,2,3,1,3,1,4,4,5,6,5,7,8,8])"
   ]
  },
  {
   "cell_type": "code",
   "execution_count": 573,
   "id": "d5b2e644",
   "metadata": {},
   "outputs": [],
   "source": [
    "?np.unique"
   ]
  },
  {
   "cell_type": "code",
   "execution_count": 582,
   "id": "316aa573",
   "metadata": {},
   "outputs": [],
   "source": [
    "unique_elements = np.unique(w, return_index=True, return_counts=True) \n",
    "#pierwsza tablica to elementy unikatowe, druga  to indeksy tych elementów, trzecia to liczba powtórzeń"
   ]
  },
  {
   "cell_type": "code",
   "execution_count": 583,
   "id": "898328b2",
   "metadata": {},
   "outputs": [
    {
     "data": {
      "text/plain": [
       "(array([1, 2, 3, 4, 5, 6, 7, 8]),\n",
       " array([ 0,  1,  4,  8, 10, 11, 13, 14], dtype=int64),\n",
       " array([3, 3, 2, 2, 2, 1, 1, 2], dtype=int64))"
      ]
     },
     "execution_count": 583,
     "metadata": {},
     "output_type": "execute_result"
    }
   ],
   "source": [
    "unique_elements"
   ]
  },
  {
   "cell_type": "markdown",
   "id": "be75b208",
   "metadata": {},
   "source": [
    "### Korzystając z `np.unique()`, w poniższej tablicy znajdź wszystkie unikatowe wiersze, ich indeksy oraz liczbę powtórzeń każdego z nich."
   ]
  },
  {
   "cell_type": "code",
   "execution_count": 577,
   "id": "156d83e7",
   "metadata": {},
   "outputs": [],
   "source": [
    "T = np.array([[1,2],[2,1],[2,2],[2,2],[2,3],[3,2],[1,2],[1,4],[2,1]])"
   ]
  },
  {
   "cell_type": "code",
   "execution_count": 585,
   "id": "7937a618",
   "metadata": {},
   "outputs": [
    {
     "data": {
      "text/plain": [
       "(array([[1, 2],\n",
       "        [1, 4],\n",
       "        [2, 1],\n",
       "        [2, 2],\n",
       "        [2, 3],\n",
       "        [3, 2]]),\n",
       " array([0, 7, 1, 2, 4, 5], dtype=int64),\n",
       " array([2, 1, 2, 2, 1, 1], dtype=int64))"
      ]
     },
     "execution_count": 585,
     "metadata": {},
     "output_type": "execute_result"
    }
   ],
   "source": [
    "np.unique(T, return_index= True, return_counts=True, axis=0) \n",
    "#Pierwsza tablica to unikalne wiersze, druga to ich indeksy, a trzecia to powtórzenia"
   ]
  },
  {
   "cell_type": "markdown",
   "id": "a2de3cbb",
   "metadata": {},
   "source": [
    "###  Podczas ostatniego wykładu podano cztery sposoby liczenia odległości między klastrami. Wczytaj klastry z plików klaster A.csv, klaster B.csv i klaster C.csv za pomocą np.loadtxt(). Następnie wylicz odległości między każdą parą klastrów na każdy z czterech sposobów korzystając z możliwości NumPy."
   ]
  },
  {
   "cell_type": "code",
   "execution_count": 14,
   "id": "fabe5720",
   "metadata": {},
   "outputs": [],
   "source": [
    "A = np.loadtxt('klaster A.csv',skiprows=1, delimiter = ',', usecols=(1,2))"
   ]
  },
  {
   "cell_type": "code",
   "execution_count": 15,
   "id": "d33abac0",
   "metadata": {},
   "outputs": [],
   "source": [
    "B = np.loadtxt('klaster B.csv',skiprows=1, delimiter = ',', usecols=(1,2))"
   ]
  },
  {
   "cell_type": "code",
   "execution_count": 16,
   "id": "90921133",
   "metadata": {},
   "outputs": [],
   "source": [
    "C = np.loadtxt('klaster C.csv',skiprows=1, delimiter = ',', usecols=(1,2))"
   ]
  },
  {
   "cell_type": "markdown",
   "id": "fc988b7c",
   "metadata": {},
   "source": [
    "**Minimalna, maksymalna i średnia odległość**"
   ]
  },
  {
   "cell_type": "markdown",
   "id": "9bab4a94",
   "metadata": {},
   "source": [
    "Klaster A i B"
   ]
  },
  {
   "cell_type": "code",
   "execution_count": 1109,
   "id": "a50bb694",
   "metadata": {},
   "outputs": [
    {
     "name": "stdout",
     "output_type": "stream",
     "text": [
      "Średnia odległość pomiędzy Klastrem A i Klastrem C:  4.686730233678573\n",
      "Minimalna odległość pomiędzy Klastrem A i Klastrem B:  0.09819857164533183\n",
      "Maksymalna odległość pomiędzy Klastrem A i Klastrem B:  11.822119042888593\n"
     ]
    }
   ],
   "source": [
    "value_min = 100\n",
    "value_max = 0\n",
    "value_avg = 0\n",
    "count_avg = 0\n",
    "\n",
    "for i in range (np.shape(A)[0]):\n",
    "    for j in range (np.shape(B)[0]):\n",
    "        value  = np.array( np.sqrt(((A[i,0]-B[j,0])**2) + (A[i,1]-B[j,1])**2))\n",
    "        value_avg = (value + (value_avg *count_avg))/(count_avg + 1)\n",
    "        count_avg += 1\n",
    "\n",
    "        if value_min > value:\n",
    "            value_min = value\n",
    "        if value_max < value:\n",
    "            value_max = value\n",
    "        \n",
    "print (\"Średnia odległość pomiędzy Klastrem A i Klastrem C: \", value_avg)     \n",
    "print(\"Minimalna odległość pomiędzy Klastrem A i Klastrem B: \", value_min)\n",
    "print(\"Maksymalna odległość pomiędzy Klastrem A i Klastrem B: \", value_max)"
   ]
  },
  {
   "cell_type": "markdown",
   "id": "0951fbc8",
   "metadata": {},
   "source": [
    "Klaster B i C"
   ]
  },
  {
   "cell_type": "code",
   "execution_count": 1110,
   "id": "b1df68ed",
   "metadata": {},
   "outputs": [
    {
     "name": "stdout",
     "output_type": "stream",
     "text": [
      "Średnia odległość pomiędzy Klastrem B i Klastrem C:  6.299729503620301\n",
      "Minimalna odległość pomiędzy Klastrem B i Klastrem C:  0.24164938880270387\n",
      "Maksymalna odległość pomiędzy Klastrem B i Klastrem C:  14.505844261364368\n"
     ]
    }
   ],
   "source": [
    "value_min = 100\n",
    "value_max = 0\n",
    "value_avg = 0\n",
    "count_avg = 0\n",
    "\n",
    "for i in range (np.shape(B)[0]):\n",
    "    for j in range (np.shape(C)[0]):\n",
    "        value  = np.array( np.sqrt(((B[i,0]-C[j,0])**2) + (B[i,1]-C[j,1])**2))\n",
    "        value_avg = (value + (value_avg *count_avg))/(count_avg + 1)\n",
    "        count_avg += 1\n",
    "\n",
    "        if value_min > value:\n",
    "            value_min = value\n",
    "        if value_max < value:\n",
    "            value_max = value\n",
    "        \n",
    "print (\"Średnia odległość pomiędzy Klastrem B i Klastrem C: \", value_avg)     \n",
    "print(\"Minimalna odległość pomiędzy Klastrem B i Klastrem C: \", value_min)\n",
    "print(\"Maksymalna odległość pomiędzy Klastrem B i Klastrem C: \", value_max)"
   ]
  },
  {
   "cell_type": "markdown",
   "id": "eea8055a",
   "metadata": {},
   "source": [
    "Klaster C i A"
   ]
  },
  {
   "cell_type": "code",
   "execution_count": 1111,
   "id": "69775f00",
   "metadata": {},
   "outputs": [
    {
     "name": "stdout",
     "output_type": "stream",
     "text": [
      "Średnia odległość pomiędzy Klastrem A i Klastrem C:  6.646745060472026\n",
      "Minimalna odległość pomiędzy Klastrem A i Klastrem C:  0.8278319350126467\n",
      "Maksymalna odległość pomiędzy Klastrem A i Klastrem C:  11.87251657746101\n"
     ]
    }
   ],
   "source": [
    "value_min = 100\n",
    "value_max = 0\n",
    "value_avg = 0\n",
    "count_avg = 0\n",
    "\n",
    "for i in range (np.shape(C)[0]):\n",
    "    for j in range (np.shape(A)[0]):\n",
    "        value = np.array( np.sqrt(((C[i,0]-A[j,0])**2) + (C[i,1]-A[j,1])**2))\n",
    "        value_avg = (value + (value_avg *count_avg))/(count_avg + 1)\n",
    "        count_avg += 1\n",
    "        if value_min > value:\n",
    "            value_min = value\n",
    "        if value_max < value:\n",
    "            value_max = value\n",
    "        \n",
    "print (\"Średnia odległość pomiędzy Klastrem A i Klastrem C: \", value_avg)\n",
    "print(\"Minimalna odległość pomiędzy Klastrem A i Klastrem C: \", value_min)\n",
    "print(\"Maksymalna odległość pomiędzy Klastrem A i Klastrem C: \", value_max)"
   ]
  },
  {
   "cell_type": "markdown",
   "id": "495c5256",
   "metadata": {},
   "source": [
    "**Odległość średnich**"
   ]
  },
  {
   "cell_type": "code",
   "execution_count": 1112,
   "id": "b6c42bcb",
   "metadata": {},
   "outputs": [],
   "source": [
    "A_mean=np.mean(A, axis=0)\n",
    "B_mean=np.mean(B, axis=0)\n",
    "C_mean=np.mean(C, axis=0)"
   ]
  },
  {
   "cell_type": "code",
   "execution_count": 1105,
   "id": "f11b288f",
   "metadata": {},
   "outputs": [
    {
     "name": "stdout",
     "output_type": "stream",
     "text": [
      "Odległość średnich pomiędzy klastrem A i B wynosi:  3.8998519904939424\n",
      "Odległość średnich klastrem B i C wynosi:  5.692671238296148\n",
      "Odległość średnich klastrem A i C wynosi:  6.3784804147126\n"
     ]
    }
   ],
   "source": [
    "d_mean_AB = np.sqrt(((A_mean[0]-B_mean[0])**2) + (A_mean[1]-B_mean[1])**2)\n",
    "d_mean_BC = np.sqrt(((B_mean[0]-C_mean[0])**2) + (B_mean[1]-C_mean[1])**2)\n",
    "d_mean_AC = np.sqrt(((A_mean[0]-C_mean[0])**2) + (A_mean[1]-C_mean[1])**2)\n",
    "\n",
    "\n",
    "print(\"Odległość średnich pomiędzy klastrem A i B wynosi: \", d_mean_AB )\n",
    "print(\"Odległość średnich klastrem B i C wynosi: \", d_mean_BC)\n",
    "print(\"Odległość średnich klastrem A i C wynosi: \", d_mean_AC)"
   ]
  },
  {
   "cell_type": "markdown",
   "id": "31a28fcc",
   "metadata": {},
   "source": [
    "###  Dla każdego sposobu pomiaru odległości pomiędzy klastrami wylicz miarę $wc(C)/bc(C)$. "
   ]
  },
  {
   "cell_type": "markdown",
   "id": "bd240eee",
   "metadata": {},
   "source": [
    "Miarę odchylenia (wc(C)) wewnątrzklastrowego definiujemy jako\n",
    "sumę odległości obiektów od środków klastrów, do których obiekty należą. Odchylenie\n",
    "międzyklastrowe (bc(C)) definiujemy jako sumę odległości środków wszystkich par\n",
    "klastrów. "
   ]
  },
  {
   "cell_type": "markdown",
   "id": "04762997",
   "metadata": {},
   "source": [
    "Środki klastrów"
   ]
  },
  {
   "cell_type": "code",
   "execution_count": 46,
   "id": "7bab5535",
   "metadata": {},
   "outputs": [],
   "source": [
    "mean_point_A = np.mean(A, axis=0)  #środek klastra A"
   ]
  },
  {
   "cell_type": "markdown",
   "id": "632c193c",
   "metadata": {},
   "source": [
    "wc(C) - Klaster A"
   ]
  },
  {
   "cell_type": "code",
   "execution_count": 36,
   "id": "9fe1e5f1",
   "metadata": {},
   "outputs": [
    {
     "data": {
      "text/plain": [
       "2.1060844389969198"
      ]
     },
     "execution_count": 36,
     "metadata": {},
     "output_type": "execute_result"
    }
   ],
   "source": [
    "mean_point_A = np.mean(A, axis=0)  #środek klastra A"
   ]
  },
  {
   "cell_type": "code",
   "execution_count": 40,
   "id": "53f52aaa",
   "metadata": {},
   "outputs": [
    {
     "name": "stdout",
     "output_type": "stream",
     "text": [
      "108.27752287450072\n"
     ]
    }
   ],
   "source": [
    "wc_A=0\n",
    "for i in range(A.shape[0]):\n",
    "    distance = (A[i,0] - mean_point_A[0])**2 + (A[i,1] - mean_point_A[1])**2\n",
    "    wc_A=wc_A+distance\n",
    "               \n",
    "print(wc_A)               "
   ]
  },
  {
   "cell_type": "markdown",
   "id": "4ea83e82",
   "metadata": {},
   "source": [
    "wc(C) - Klaster B"
   ]
  },
  {
   "cell_type": "code",
   "execution_count": 41,
   "id": "e94659b6",
   "metadata": {},
   "outputs": [],
   "source": [
    "mean_point_B = np.mean(B, axis=0)  #środek klastra B"
   ]
  },
  {
   "cell_type": "code",
   "execution_count": 43,
   "id": "30fd8f34",
   "metadata": {},
   "outputs": [
    {
     "name": "stdout",
     "output_type": "stream",
     "text": [
      "631.3943626398847\n"
     ]
    }
   ],
   "source": [
    "wc_B=0\n",
    "for i in range(B.shape[0]):\n",
    "    distance = (B[i,0] - mean_point_B[0])**2 + (B[i,1] - mean_point_B[1])**2\n",
    "    wc_B=wc_B+distance\n",
    "               \n",
    "print(wc_B)      "
   ]
  },
  {
   "cell_type": "markdown",
   "id": "69a98ff0",
   "metadata": {},
   "source": [
    "wc(C) - Klaster C"
   ]
  },
  {
   "cell_type": "code",
   "execution_count": 44,
   "id": "b9e4681c",
   "metadata": {},
   "outputs": [],
   "source": [
    "mean_point_C = np.mean(C, axis=0)  #środek klastra C"
   ]
  },
  {
   "cell_type": "code",
   "execution_count": 45,
   "id": "1b41bd0c",
   "metadata": {},
   "outputs": [
    {
     "name": "stdout",
     "output_type": "stream",
     "text": [
      "459.98615480738323\n"
     ]
    }
   ],
   "source": [
    "wc_C=0\n",
    "for i in range(C.shape[0]):\n",
    "    distance = (C[i,0] - mean_point_C[0])**2 + (C[i,1] - mean_point_C[1])**2\n",
    "    wc_C=wc_C+distance\n",
    "               \n",
    "print(wc_C)      "
   ]
  },
  {
   "cell_type": "code",
   "execution_count": null,
   "id": "6cc03f6c",
   "metadata": {},
   "outputs": [],
   "source": []
  }
 ],
 "metadata": {
  "kernelspec": {
   "display_name": "Python 3 (ipykernel)",
   "language": "python",
   "name": "python3"
  },
  "language_info": {
   "codemirror_mode": {
    "name": "ipython",
    "version": 3
   },
   "file_extension": ".py",
   "mimetype": "text/x-python",
   "name": "python",
   "nbconvert_exporter": "python",
   "pygments_lexer": "ipython3",
   "version": "3.10.5"
  }
 },
 "nbformat": 4,
 "nbformat_minor": 5
}
